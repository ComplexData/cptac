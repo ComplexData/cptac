{
 "cells": [
  {
   "cell_type": "markdown",
   "metadata": {},
   "source": [
    "#Use Case 4"
   ]
  },
  {
   "cell_type": "markdown",
   "metadata": {},
   "source": [
    "Regular imports"
   ]
  },
  {
   "cell_type": "code",
   "execution_count": 1,
   "metadata": {},
   "outputs": [],
   "source": [
    "import pandas as pd\n",
    "import numpy as np\n",
    "import matplotlib.pyplot as plt\n",
    "import seaborn as sns"
   ]
  },
  {
   "cell_type": "markdown",
   "metadata": {},
   "source": [
    "Import CPTAC data"
   ]
  },
  {
   "cell_type": "code",
   "execution_count": 2,
   "metadata": {},
   "outputs": [
    {
     "name": "stdout",
     "output_type": "stream",
     "text": [
      "Loading Clinical Data...\n",
      "Loading Proteomics Data...\n",
      "Loading Transcriptomics Data...\n",
      "Loading CNA Data...\n",
      "Loading Phosphoproteomics Data...\n",
      "Loading Somatic Data...\n",
      "\n",
      " ******PLEASE READ******\n",
      "WARNING: This data is under a publication embargo until July 1, 2019. CPTAC is a community resource project and data are made available rapidly after generation for community research use. The embargo allows exploring and utilizing the data, but the data may not be in a publication until July 1, 2019. Please see https://proteomics.cancer.gov/data-portal/about/data-use-agreement, or enter CPTAC.embargo() to open the webpage for more details.\n"
     ]
    }
   ],
   "source": [
    "import CPTAC"
   ]
  },
  {
   "cell_type": "markdown",
   "metadata": {},
   "source": [
    "Retrieve protein abudance and somatic gene mutations, represented in binary format: 0 if no mutation is present, 1 if mutation is present."
   ]
  },
  {
   "cell_type": "code",
   "execution_count": 3,
   "metadata": {},
   "outputs": [],
   "source": [
    "somatic_mutations = CPTAC.get_somatic()\n",
    "proteomics = CPTAC.get_proteomics()"
   ]
  },
  {
   "cell_type": "markdown",
   "metadata": {},
   "source": [
    "Find gene with high frequency of mutation"
   ]
  },
  {
   "cell_type": "code",
   "execution_count": 4,
   "metadata": {},
   "outputs": [
    {
     "name": "stdout",
     "output_type": "stream",
     "text": [
      "PTEN\n"
     ]
    }
   ],
   "source": [
    "high = somatic_mutations.sum() == max(somatic_mutations.sum())\n",
    "gene = somatic_mutations[somatic_mutations.columns[high]].columns[0]\n",
    "print(gene)"
   ]
  },
  {
   "cell_type": "markdown",
   "metadata": {},
   "source": [
    "Use found gene to compare somatic and protein abundance"
   ]
  },
  {
   "cell_type": "code",
   "execution_count": 5,
   "metadata": {},
   "outputs": [
    {
     "name": "stdout",
     "output_type": "stream",
     "text": [
      "      somatic  proteomics\n",
      "S001        1       -0.55\n",
      "S002        1       -0.94\n",
      "S003        1       -1.12\n",
      "S004        1        0.55\n",
      "S005        0       -0.39\n",
      "S006        1        0.00\n",
      "S007        1       -1.03\n",
      "S008        0        0.10\n",
      "S009        1        0.50\n",
      "S010        1        0.06\n",
      "S011        1       -1.63\n",
      "S012        0       -0.29\n",
      "S013        1       -1.05\n",
      "S014        0       -0.47\n",
      "S015        0       -0.57\n",
      "S016        0        0.28\n",
      "S017        0        0.07\n",
      "S018        1       -1.68\n",
      "S019        1        0.66\n",
      "S020        1       -1.08\n",
      "S021        1       -1.16\n",
      "S022        1       -0.87\n",
      "S023        1       -0.46\n",
      "S024        1       -0.86\n",
      "S025        1       -0.24\n",
      "S026        1       -0.45\n",
      "S027        1        0.54\n",
      "S028        1        0.34\n",
      "S029        1       -0.57\n",
      "S030        0       -1.28\n",
      "...       ...         ...\n",
      "S071        1       -0.40\n",
      "S072        1        0.62\n",
      "S073        1        0.01\n",
      "S074        1        0.07\n",
      "S075        1       -0.16\n",
      "S076        1       -0.69\n",
      "S077        1        0.05\n",
      "S078        1       -0.48\n",
      "S079        1       -0.49\n",
      "S080        0        0.19\n",
      "S081        1       -2.02\n",
      "S082        1       -1.07\n",
      "S083        0       -0.58\n",
      "S084        1       -1.20\n",
      "S085        1       -1.41\n",
      "S086        1       -0.59\n",
      "S087        0        0.52\n",
      "S088        1       -0.91\n",
      "S089        1       -0.29\n",
      "S090        1       -0.76\n",
      "S091        1        0.04\n",
      "S092        1       -0.38\n",
      "S093        0        0.03\n",
      "S094        1       -0.54\n",
      "S095        1       -2.55\n",
      "S096        1       -1.17\n",
      "S097        0       -0.86\n",
      "S098        0       -0.19\n",
      "S099        0       -0.01\n",
      "S100        0        0.21\n",
      "\n",
      "[100 rows x 2 columns]\n"
     ]
    }
   ],
   "source": [
    "cross = CPTAC.compare_gene(somatic_mutations, proteomics, gene)\n",
    "print(cross)"
   ]
  },
  {
   "cell_type": "markdown",
   "metadata": {},
   "source": [
    "Plot boxplot of comparison between protein abundance in mutated against non-mutated"
   ]
  },
  {
   "cell_type": "code",
   "execution_count": 8,
   "metadata": {},
   "outputs": [
    {
     "data": {
      "image/png": "[encoded data removed]",
      "text/plain": [
       "<Figure size 432x288 with 1 Axes>"
      ]
     },
     "metadata": {},
     "output_type": "display_data"
    }
   ],
   "source": [
    "somatic_boxplot = sns.boxplot(data=cross, x=\"somatic\",y=\"proteomics\").set_title(\"PTEN gene mutation protein abundance\")\n",
    "somatic_boxplot = sns.stripplot(data=cross, x=\"somatic\", y=\"proteomics\",jitter=True, color=\".3\")\n",
    "plt.show()"
   ]
  }
 ],
 "metadata": {
  "kernelspec": {
   "display_name": "Python 3",
   "language": "python",
   "name": "python3"
  },
  "language_info": {
   "codemirror_mode": {
    "name": "ipython",
    "version": 3
   },
   "file_extension": ".py",
   "mimetype": "text/x-python",
   "name": "python",
   "nbconvert_exporter": "python",
   "pygments_lexer": "ipython3",
   "version": "3.6.5"
  }
 },
 "nbformat": 4,
 "nbformat_minor": 2
}
