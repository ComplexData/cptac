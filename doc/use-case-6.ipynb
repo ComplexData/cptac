{
 "cells": [
  {
   "cell_type": "markdown",
   "metadata": {},
   "source": [
    "# Use Case 6: Comparing Derived Molecular Data with Proteomics\n"
   ]
  },
  {
   "cell_type": "markdown",
   "metadata": {},
   "source": [
    "For this use case, we will be looking at the derived molecular data contained in the Endometrial dataset, and comparing it with protein data."
   ]
  },
  {
   "cell_type": "markdown",
   "metadata": {},
   "source": [
    "## Step 1: Importing packages"
   ]
  },
  {
   "cell_type": "markdown",
   "metadata": {},
   "source": [
    "We will start by importing the python packages we will need, including the CPTAC Endometrial data package, which includes the Endometrial patient data as well as accessory functions that we will use to analyze the data."
   ]
  },
  {
   "cell_type": "code",
   "execution_count": 12,
   "metadata": {
    "scrolled": true
   },
   "outputs": [],
   "source": [
    "import pandas as pd\n",
    "import seaborn as sns\n",
    "import matplotlib.pyplot as plt\n",
    "\n",
    "import CPTAC.Endometrial as en"
   ]
  },
  {
   "cell_type": "markdown",
   "metadata": {},
   "source": [
    "## Step 2: Getting data and selecting attributes"
   ]
  },
  {
   "cell_type": "markdown",
   "metadata": {},
   "source": [
    "For this use case, we will be using two dataframes contained in the Endometrial dataset: <code>derived_molecular</code> and <code>proteomics</code>. We will use the getter functions to store these dataframes in variables."
   ]
  },
  {
   "cell_type": "code",
   "execution_count": 13,
   "metadata": {},
   "outputs": [],
   "source": [
    "der_molecular = en.get_derived_molecular()\n",
    "proteomics = en.get_proteomics()"
   ]
  },
  {
   "cell_type": "markdown",
   "metadata": {},
   "source": [
    "The derived molecular dataframe contains many different attributes that we can choose from for analysis. To view a list of these attributes, we can print out the column names of the dataframe. To view the full list of column names without truncation, first use the command <code>pd.set_option('display.max_seq_items', None)</code>.\n"
   ]
  },
  {
   "cell_type": "code",
   "execution_count": 19,
   "metadata": {},
   "outputs": [
    {
     "data": {
      "text/plain": [
       "Index(['Proteomics_TMT_batch', 'Proteomics_TMT_plex', 'Proteomics_TMT_channel',\n",
       "       'Proteomics_Parent_Sample_IDs', 'Proteomics_Aliquot_ID',\n",
       "       'Proteomics_OCT', 'Estrogen_Receptor', 'Estrogen_Receptor_%',\n",
       "       'Progesterone_Receptor', 'Progesterone_Receptor_%',\n",
       "       ...\n",
       "       'RNAseq_R1_sample_type', 'RNAseq_R1_filename', 'RNAseq_R1_UUID',\n",
       "       'RNAseq_R2_sample_type', 'RNAseq_R2_filename', 'RNAseq_R2_UUID',\n",
       "       'miRNAseq_sample_type', 'miRNAseq_UUID', 'Methylation_available',\n",
       "       'Methylation_quality'],\n",
       "      dtype='object', length=144)"
      ]
     },
     "execution_count": 19,
     "metadata": {},
     "output_type": "execute_result"
    }
   ],
   "source": [
    "der_molecular.columns"
   ]
  },
  {
   "cell_type": "markdown",
   "metadata": {},
   "source": [
    "For our purposes, we are going to be comparing MSI status with the JAK1 protein. MSI stands for Microsatellite instability, and refers to an impairment in the system for correcting errors in DNA. The possible values for MSI status are MSI-H (high microsatellite instability) or MSS (microsatellite stable). To see all of the possible values in any column, you can use the pandas function <code>.unique()</code>"
   ]
  },
  {
   "cell_type": "code",
   "execution_count": 15,
   "metadata": {},
   "outputs": [
    {
     "data": {
      "text/plain": [
       "array(['MSI-H', 'MSS', nan], dtype=object)"
      ]
     },
     "execution_count": 15,
     "metadata": {},
     "output_type": "execute_result"
    }
   ],
   "source": [
    "der_molecular['MSI_status'].unique()"
   ]
  },
  {
   "cell_type": "markdown",
   "metadata": {},
   "source": [
    "## Step 3: Merge dataframes"
   ]
  },
  {
   "cell_type": "markdown",
   "metadata": {},
   "source": [
    "We will use the <code>en.compare_derived_molecular()</code> function to merge our desired molecular trait with the proteomics data.  "
   ]
  },
  {
   "cell_type": "code",
   "execution_count": 16,
   "metadata": {},
   "outputs": [],
   "source": [
    "merged_data = en.compare_derived_molecular(proteomics, 'MSI_status')"
   ]
  },
  {
   "cell_type": "markdown",
   "metadata": {},
   "source": [
    "## Step 4: Plot data"
   ]
  },
  {
   "cell_type": "markdown",
   "metadata": {},
   "source": [
    "Now we will use the seaborn and matplotlib libraries to create a boxplot that will allow us to visualize this data. For more information on using seaborn, see <a href=\"https://seaborn.pydata.org/tutorial.html\">seaborn tutorial</a>."
   ]
  },
  {
   "cell_type": "code",
   "execution_count": 11,
   "metadata": {},
   "outputs": [
    {
     "data": {
      "image/png": "[encoded data removed]",
      "text/plain": [
       "<Figure size 432x288 with 1 Axes>"
      ]
     },
     "metadata": {
      "needs_background": "light"
     },
     "output_type": "display_data"
    }
   ],
   "source": [
    "sns.boxplot(x='MSI_status', y='JAK1', data = merged_data, showfliers = False, order = ['MSS', 'MSI-H'])\n",
    "sns.stripplot(x='MSI_status', y='JAK1', data = merged_data, color = '.3', order = ['MSS', 'MSI-H'])\n",
    "plt.show()"
   ]
  }
 ],
 "metadata": {
  "kernelspec": {
   "display_name": "Python 3",
   "language": "python",
   "name": "python3"
  },
  "language_info": {
   "codemirror_mode": {
    "name": "ipython",
    "version": 3
   },
   "file_extension": ".py",
   "mimetype": "text/x-python",
   "name": "python",
   "nbconvert_exporter": "python",
   "pygments_lexer": "ipython3",
   "version": "3.7.2"
  }
 },
 "nbformat": 4,
 "nbformat_minor": 2
}
