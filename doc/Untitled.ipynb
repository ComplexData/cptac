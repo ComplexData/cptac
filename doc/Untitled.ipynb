{
 "cells": [
  {
   "cell_type": "code",
   "execution_count": 14,
   "metadata": {},
   "outputs": [
    {
     "name": "stdout",
     "output_type": "stream",
     "text": [
      "Requirement already satisfied: numpy in /usr/local/lib/python3.6/dist-packages (1.15.1)\n",
      "Collecting pandas\n",
      "\u001b[?25l  Downloading https://files.pythonhosted.org/packages/e1/d8/feeb346d41f181e83fba45224ab14a8d8af019b48af742e047f3845d8cff/pandas-0.23.4-cp36-cp36m-manylinux1_x86_64.whl (8.9MB)\n",
      "\u001b[K    100% |████████████████████████████████| 8.9MB 1.7MB/s ta 0:00:01\n",
      "\u001b[?25hCollecting pytz>=2011k (from pandas)\n",
      "  Using cached https://files.pythonhosted.org/packages/30/4e/27c34b62430286c6d59177a0842ed90dc789ce5d1ed740887653b898779a/pytz-2018.5-py2.py3-none-any.whl\n",
      "Requirement already satisfied: numpy>=1.9.0 in /usr/local/lib/python3.6/dist-packages (from pandas) (1.15.1)\n",
      "Requirement already satisfied: python-dateutil>=2.5.0 in /usr/local/lib/python3.6/dist-packages (from pandas) (2.7.3)\n",
      "Requirement already satisfied: six>=1.5 in /usr/lib/python3/dist-packages (from python-dateutil>=2.5.0->pandas) (1.11.0)\n",
      "Installing collected packages: pytz, pandas\n",
      "Successfully installed pandas-0.23.4 pytz-2018.5\n"
     ]
    }
   ],
   "source": [
    "!pip install numpy\n",
    "!pip install pandas"
   ]
  },
  {
   "cell_type": "code",
   "execution_count": 12,
   "metadata": {},
   "outputs": [
    {
     "name": "stdout",
     "output_type": "stream",
     "text": [
      "Package             Version  \r\n",
      "------------------- ---------\r\n",
      "asn1crypto          0.24.0   \r\n",
      "attrs               17.4.0   \r\n",
      "Automat             0.6.0    \r\n",
      "backcall            0.1.0    \r\n",
      "bleach              2.1.4    \r\n",
      "blinker             1.4      \r\n",
      "certifi             2018.1.18\r\n",
      "chardet             3.0.4    \r\n",
      "click               6.7      \r\n",
      "cloud-init          18.2     \r\n",
      "colorama            0.3.7    \r\n",
      "command-not-found   0.3      \r\n",
      "configobj           5.0.6    \r\n",
      "constantly          15.1.0   \r\n",
      "CPTAC               0.1      \r\n",
      "cryptography        2.1.4    \r\n",
      "cycler              0.10.0   \r\n",
      "decorator           4.1.2    \r\n",
      "defusedxml          0.5.0    \r\n",
      "distro-info         0.18     \r\n",
      "entrypoints         0.2.3    \r\n",
      "html5lib            1.0.1    \r\n",
      "httplib2            0.9.2    \r\n",
      "hyperlink           17.3.1   \r\n",
      "idna                2.6      \r\n",
      "incremental         16.10.1  \r\n",
      "ipykernel           4.9.0    \r\n",
      "ipython             6.5.0    \r\n",
      "ipython-genutils    0.2.0    \r\n",
      "ipywidgets          7.4.2    \r\n",
      "jedi                0.12.1   \r\n",
      "Jinja2              2.10     \r\n",
      "jsonpatch           1.16     \r\n",
      "jsonpointer         1.10     \r\n",
      "jsonschema          2.6.0    \r\n",
      "jupyter             1.0.0    \r\n",
      "jupyter-client      5.2.3    \r\n",
      "jupyter-console     5.2.0    \r\n",
      "jupyter-core        4.4.0    \r\n",
      "keyring             10.6.0   \r\n",
      "keyrings.alt        3.0      \r\n",
      "kiwisolver          1.0.1    \r\n",
      "language-selector   0.1      \r\n",
      "MarkupSafe          1.0      \r\n",
      "matplotlib          3.0.0    \r\n",
      "mistune             0.8.3    \r\n",
      "nbconvert           5.4.0    \r\n",
      "nbformat            4.4.0    \r\n",
      "notebook            5.7.0    \r\n",
      "numpy               1.15.1   \r\n",
      "oauthlib            2.0.6    \r\n",
      "PAM                 0.4.2    \r\n",
      "pandocfilters       1.4.2    \r\n",
      "parso               0.3.1    \r\n",
      "pexpect             4.6.0    \r\n",
      "pickleshare         0.7.4    \r\n",
      "pip                 18.0     \r\n",
      "prometheus-client   0.3.1    \r\n",
      "prompt-toolkit      1.0.15   \r\n",
      "ptyprocess          0.6.0    \r\n",
      "pyasn1              0.4.2    \r\n",
      "pyasn1-modules      0.2.1    \r\n",
      "pycrypto            2.6.1    \r\n",
      "Pygments            2.2.0    \r\n",
      "pygobject           3.26.1   \r\n",
      "PyJWT               1.5.3    \r\n",
      "pyOpenSSL           17.5.0   \r\n",
      "pyparsing           2.2.1    \r\n",
      "pyserial            3.4      \r\n",
      "python-apt          1.6.0    \r\n",
      "python-dateutil     2.7.3    \r\n",
      "python-debian       0.1.32   \r\n",
      "pyxdg               0.25     \r\n",
      "PyYAML              3.12     \r\n",
      "pyzmq               17.1.2   \r\n",
      "qtconsole           4.4.1    \r\n",
      "requests            2.18.4   \r\n",
      "requests-unixsocket 0.1.5    \r\n",
      "SecretStorage       2.3.1    \r\n",
      "Send2Trash          1.5.0    \r\n",
      "service-identity    16.0.0   \r\n",
      "setuptools          39.0.1   \r\n",
      "simplegeneric       0.8.1    \r\n",
      "six                 1.11.0   \r\n",
      "ssh-import-id       5.7      \r\n",
      "systemd-python      234      \r\n",
      "terminado           0.8.1    \r\n",
      "testpath            0.3.1    \r\n",
      "tornado             5.1.1    \r\n",
      "traitlets           4.3.2    \r\n",
      "Twisted             17.9.0   \r\n",
      "ufw                 0.35     \r\n",
      "unattended-upgrades 0.1      \r\n",
      "urllib3             1.22     \r\n",
      "wcwidth             0.1.7    \r\n",
      "webencodings        0.5.1    \r\n",
      "wheel               0.30.0   \r\n",
      "widgetsnbextension  3.4.2    \r\n",
      "zope.interface      4.3.2    \r\n"
     ]
    }
   ],
   "source": [
    "!pip install ../."
   ]
  },
  {
   "cell_type": "code",
   "execution_count": 15,
   "metadata": {},
   "outputs": [
    {
     "ename": "FileNotFoundError",
     "evalue": "[Errno 2] No such file or directory: '/usr/local/lib/python3.6/dist-packages/CPTAC/Data/clinical.csv'",
     "output_type": "error",
     "traceback": [
      "\u001b[0;31m---------------------------------------------------------------------------\u001b[0m",
      "\u001b[0;31mFileNotFoundError\u001b[0m                         Traceback (most recent call last)",
      "\u001b[0;32m<ipython-input-15-6dc94bd4aecc>\u001b[0m in \u001b[0;36m<module>\u001b[0;34m()\u001b[0m\n\u001b[0;32m----> 1\u001b[0;31m \u001b[0;32mimport\u001b[0m \u001b[0mCPTAC\u001b[0m\u001b[0;34m\u001b[0m\u001b[0m\n\u001b[0m",
      "\u001b[0;32m/usr/local/lib/python3.6/dist-packages/CPTAC/__init__.py\u001b[0m in \u001b[0;36m<module>\u001b[0;34m()\u001b[0m\n\u001b[1;32m      8\u001b[0m \u001b[0;34m\u001b[0m\u001b[0m\n\u001b[1;32m      9\u001b[0m \u001b[0mdir_path\u001b[0m \u001b[0;34m=\u001b[0m \u001b[0mos\u001b[0m\u001b[0;34m.\u001b[0m\u001b[0mpath\u001b[0m\u001b[0;34m.\u001b[0m\u001b[0mdirname\u001b[0m\u001b[0;34m(\u001b[0m\u001b[0mos\u001b[0m\u001b[0;34m.\u001b[0m\u001b[0mpath\u001b[0m\u001b[0;34m.\u001b[0m\u001b[0mrealpath\u001b[0m\u001b[0;34m(\u001b[0m\u001b[0m__file__\u001b[0m\u001b[0;34m)\u001b[0m\u001b[0;34m)\u001b[0m\u001b[0;34m\u001b[0m\u001b[0m\n\u001b[0;32m---> 10\u001b[0;31m \u001b[0mclinical\u001b[0m \u001b[0;34m=\u001b[0m \u001b[0mDataFrameLoader\u001b[0m\u001b[0;34m(\u001b[0m\u001b[0mdir_path\u001b[0m \u001b[0;34m+\u001b[0m \u001b[0mos\u001b[0m\u001b[0;34m.\u001b[0m\u001b[0msep\u001b[0m \u001b[0;34m+\u001b[0m \u001b[0;34m\"Data\"\u001b[0m \u001b[0;34m+\u001b[0m \u001b[0mos\u001b[0m\u001b[0;34m.\u001b[0m\u001b[0msep\u001b[0m \u001b[0;34m+\u001b[0m \u001b[0;34m\"clinical.csv\"\u001b[0m\u001b[0;34m)\u001b[0m\u001b[0;34m.\u001b[0m\u001b[0mcreateDataFrame\u001b[0m\u001b[0;34m(\u001b[0m\u001b[0;34m)\u001b[0m\u001b[0;34m\u001b[0m\u001b[0m\n\u001b[0m\u001b[1;32m     11\u001b[0m \u001b[0mclinical_meta\u001b[0m \u001b[0;34m=\u001b[0m \u001b[0mDataFrameLoader\u001b[0m\u001b[0;34m(\u001b[0m\u001b[0mdir_path\u001b[0m \u001b[0;34m+\u001b[0m \u001b[0mos\u001b[0m\u001b[0;34m.\u001b[0m\u001b[0msep\u001b[0m \u001b[0;34m+\u001b[0m \u001b[0;34m\"Data\"\u001b[0m \u001b[0;34m+\u001b[0m \u001b[0mos\u001b[0m\u001b[0;34m.\u001b[0m\u001b[0msep\u001b[0m \u001b[0;34m+\u001b[0m \u001b[0;34m\"meta_clinical.csv\"\u001b[0m\u001b[0;34m)\u001b[0m\u001b[0;34m.\u001b[0m\u001b[0mcreateDataFrame\u001b[0m\u001b[0;34m(\u001b[0m\u001b[0;34m)\u001b[0m \u001b[0;31m#TODO isn't finished yet\u001b[0m\u001b[0;34m\u001b[0m\u001b[0m\n\u001b[1;32m     12\u001b[0m \u001b[0mproteomics\u001b[0m \u001b[0;34m=\u001b[0m \u001b[0mDataFrameLoader\u001b[0m\u001b[0;34m(\u001b[0m\u001b[0mdir_path\u001b[0m \u001b[0;34m+\u001b[0m \u001b[0mos\u001b[0m\u001b[0;34m.\u001b[0m\u001b[0msep\u001b[0m \u001b[0;34m+\u001b[0m \u001b[0;34m\"Data\"\u001b[0m \u001b[0;34m+\u001b[0m \u001b[0mos\u001b[0m\u001b[0;34m.\u001b[0m\u001b[0msep\u001b[0m \u001b[0;34m+\u001b[0m \u001b[0;34m\"proteomics.txt\"\u001b[0m\u001b[0;34m)\u001b[0m\u001b[0;34m.\u001b[0m\u001b[0mcreateDataFrame\u001b[0m\u001b[0;34m(\u001b[0m\u001b[0;34m)\u001b[0m\u001b[0;34m\u001b[0m\u001b[0m\n",
      "\u001b[0;32m/usr/local/lib/python3.6/dist-packages/CPTAC/dataframe.py\u001b[0m in \u001b[0;36mcreateDataFrame\u001b[0;34m(self)\u001b[0m\n\u001b[1;32m      7\u001b[0m         \u001b[0mself\u001b[0m\u001b[0;34m.\u001b[0m\u001b[0mfileName\u001b[0m \u001b[0;34m=\u001b[0m \u001b[0mfileName\u001b[0m\u001b[0;34m\u001b[0m\u001b[0m\n\u001b[1;32m      8\u001b[0m     \u001b[0;32mdef\u001b[0m \u001b[0mcreateDataFrame\u001b[0m\u001b[0;34m(\u001b[0m\u001b[0mself\u001b[0m\u001b[0;34m)\u001b[0m\u001b[0;34m:\u001b[0m\u001b[0;34m\u001b[0m\u001b[0m\n\u001b[0;32m----> 9\u001b[0;31m         \u001b[0mfile\u001b[0m \u001b[0;34m=\u001b[0m \u001b[0mFileLoader\u001b[0m\u001b[0;34m(\u001b[0m\u001b[0mself\u001b[0m\u001b[0;34m.\u001b[0m\u001b[0mfileName\u001b[0m\u001b[0;34m)\u001b[0m\u001b[0;34m.\u001b[0m\u001b[0mreadFile\u001b[0m\u001b[0;34m(\u001b[0m\u001b[0;34m)\u001b[0m\u001b[0;34m\u001b[0m\u001b[0m\n\u001b[0m\u001b[1;32m     10\u001b[0m         \u001b[0;32mif\u001b[0m \u001b[0mself\u001b[0m\u001b[0;34m.\u001b[0m\u001b[0mfileName\u001b[0m\u001b[0;34m.\u001b[0m\u001b[0mendswith\u001b[0m\u001b[0;34m(\u001b[0m\u001b[0;34m'.csv'\u001b[0m\u001b[0;34m)\u001b[0m\u001b[0;34m:\u001b[0m\u001b[0;34m\u001b[0m\u001b[0m\n\u001b[1;32m     11\u001b[0m             \u001b[0mdf\u001b[0m \u001b[0;34m=\u001b[0m \u001b[0mpd\u001b[0m\u001b[0;34m.\u001b[0m\u001b[0mread_csv\u001b[0m\u001b[0;34m(\u001b[0m\u001b[0mfile\u001b[0m\u001b[0;34m,\u001b[0m \u001b[0mindex_col\u001b[0m\u001b[0;34m=\u001b[0m\u001b[0;36m0\u001b[0m\u001b[0;34m)\u001b[0m\u001b[0;34m\u001b[0m\u001b[0m\n",
      "\u001b[0;32m/usr/local/lib/python3.6/dist-packages/CPTAC/fileLoader.py\u001b[0m in \u001b[0;36mreadFile\u001b[0;34m(self)\u001b[0m\n\u001b[1;32m      7\u001b[0m         \u001b[0mself\u001b[0m\u001b[0;34m.\u001b[0m\u001b[0mfileName\u001b[0m \u001b[0;34m=\u001b[0m \u001b[0mfileName\u001b[0m\u001b[0;34m\u001b[0m\u001b[0m\n\u001b[1;32m      8\u001b[0m     \u001b[0;32mdef\u001b[0m \u001b[0mreadFile\u001b[0m\u001b[0;34m(\u001b[0m\u001b[0mself\u001b[0m\u001b[0;34m)\u001b[0m\u001b[0;34m:\u001b[0m\u001b[0;34m\u001b[0m\u001b[0m\n\u001b[0;32m----> 9\u001b[0;31m         \u001b[0;32mreturn\u001b[0m \u001b[0mopen\u001b[0m\u001b[0;34m(\u001b[0m\u001b[0mself\u001b[0m\u001b[0;34m.\u001b[0m\u001b[0mfileName\u001b[0m\u001b[0;34m,\u001b[0m \u001b[0;34m'r'\u001b[0m\u001b[0;34m)\u001b[0m\u001b[0;34m\u001b[0m\u001b[0m\n\u001b[0m\u001b[1;32m     10\u001b[0m     \u001b[0;32mdef\u001b[0m \u001b[0mwriteFile\u001b[0m\u001b[0;34m(\u001b[0m\u001b[0mself\u001b[0m\u001b[0;34m)\u001b[0m\u001b[0;34m:\u001b[0m\u001b[0;34m\u001b[0m\u001b[0m\n\u001b[1;32m     11\u001b[0m         \u001b[0;32mreturn\u001b[0m \u001b[0mopen\u001b[0m\u001b[0;34m(\u001b[0m\u001b[0mself\u001b[0m\u001b[0;34m.\u001b[0m\u001b[0mfileName\u001b[0m\u001b[0;34m,\u001b[0m \u001b[0;34m'w'\u001b[0m\u001b[0;34m)\u001b[0m\u001b[0;34m\u001b[0m\u001b[0m\n",
      "\u001b[0;31mFileNotFoundError\u001b[0m: [Errno 2] No such file or directory: '/usr/local/lib/python3.6/dist-packages/CPTAC/Data/clinical.csv'"
     ]
    }
   ],
   "source": [
    "import CPTAC"
   ]
  }
 ],
 "metadata": {
  "kernelspec": {
   "display_name": "Python 3",
   "language": "python",
   "name": "python3"
  },
  "language_info": {
   "codemirror_mode": {
    "name": "ipython",
    "version": 3
   },
   "file_extension": ".py",
   "mimetype": "text/x-python",
   "name": "python",
   "nbconvert_exporter": "python",
   "pygments_lexer": "ipython3",
   "version": "3.6.6"
  }
 },
 "nbformat": 4,
 "nbformat_minor": 2
}
