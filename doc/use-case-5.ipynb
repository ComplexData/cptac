{
 "cells": [
  {
   "cell_type": "markdown",
   "metadata": {},
   "source": [
    "# Use Case 5: Gene set enrichment analysis"
   ]
  },
  {
   "cell_type": "markdown",
   "metadata": {},
   "source": [
    "<b>Import standard data analysis imports, as well as the gseapy which will allow us to perform a Gene set enrichment analysis</b>"
   ]
  },
  {
   "cell_type": "code",
   "execution_count": 1,
   "metadata": {},
   "outputs": [],
   "source": [
    "import pandas as pd\n",
    "import numpy as np\n",
    "import matplotlib.pyplot as plt\n",
    "import gseapy as gp"
   ]
  },
  {
   "cell_type": "markdown",
   "metadata": {},
   "source": [
    "<b>Import the CPTAC data</b>"
   ]
  },
  {
   "cell_type": "code",
   "execution_count": 2,
   "metadata": {},
   "outputs": [
    {
     "name": "stdout",
     "output_type": "stream",
     "text": [
      "Loading Clinical Data...\n",
      "Loading Proteomics Data...\n",
      "Loading Transcriptomics Data...\n",
      "Loading CNA Data...\n",
      "Loading Phosphoproteomics Data...\n",
      "Loading Somatic Data...\n",
      "\n",
      " ******PLEASE READ******\n",
      "WARNING: This data is under a publication embargo until July 1, 2019. CPTAC is a community resource project and data are made available rapidly after generation for community research use. The embargo allows exploring and utilizing the data, but the data may not be in a publication until July 1, 2019. Please see https://proteomics.cancer.gov/data-portal/about/data-use-agreement or enter CPTAC.embargo() to open the webpage for more details.\n"
     ]
    }
   ],
   "source": [
    "import CPTAC"
   ]
  },
  {
   "cell_type": "markdown",
   "metadata": {},
   "source": [
    "<b>Retrieve the clinical and proteomics dataframes</b>"
   ]
  },
  {
   "cell_type": "code",
   "execution_count": 3,
   "metadata": {},
   "outputs": [],
   "source": [
    "clinical = CPTAC.get_clinical()\n",
    "proteomics = CPTAC.get_proteomics()"
   ]
  },
  {
   "cell_type": "markdown",
   "metadata": {},
   "source": [
    "<b>For this example we will be separating the protein abudance based on the clinical MSI. Our first step is to combine the MSI information into the proteomics dataframe utilizing the <code>CPTAC.compare_clinical()</code> function</b>"
   ]
  },
  {
   "cell_type": "code",
   "execution_count": 4,
   "metadata": {},
   "outputs": [],
   "source": [
    "msiProt = CPTAC.compare_clinical(clinical, proteomics, 'MSI')"
   ]
  },
  {
   "cell_type": "markdown",
   "metadata": {},
   "source": [
    "<b>Separate the proteomics into two groups based on whether MSI is MSI-H or other </b>"
   ]
  },
  {
   "cell_type": "code",
   "execution_count": 5,
   "metadata": {},
   "outputs": [],
   "source": [
    "high = msiProt['MSI'] == \"MSI-H\"\n",
    "other = msiProt['MSI'] != \"MSI-H\"\n",
    "highProt = msiProt[high]\n",
    "otherProt = msiProt[other]"
   ]
  },
  {
   "cell_type": "markdown",
   "metadata": {},
   "source": [
    "<b>Then use the genes that are up-regulated in these partitions to do a gene set enrichment analysis</b>"
   ]
  },
  {
   "cell_type": "code",
   "execution_count": 6,
   "metadata": {},
   "outputs": [
    {
     "data": {
      "text/html": [
       "<div>\n",
       "<style scoped>\n",
       "    .dataframe tbody tr th:only-of-type {\n",
       "        vertical-align: middle;\n",
       "    }\n",
       "\n",
       "    .dataframe tbody tr th {\n",
       "        vertical-align: top;\n",
       "    }\n",
       "\n",
       "    .dataframe thead th {\n",
       "        text-align: right;\n",
       "    }\n",
       "</style>\n",
       "<table border=\"1\" class=\"dataframe\">\n",
       "  <thead>\n",
       "    <tr style=\"text-align: right;\">\n",
       "      <th></th>\n",
       "      <th>Term</th>\n",
       "      <th>Overlap</th>\n",
       "      <th>P-value</th>\n",
       "      <th>Adjusted P-value</th>\n",
       "      <th>Old P-value</th>\n",
       "      <th>Old Adjusted P-value</th>\n",
       "      <th>Z-score</th>\n",
       "      <th>Combined Score</th>\n",
       "      <th>Genes</th>\n",
       "      <th>Gene_set</th>\n",
       "    </tr>\n",
       "  </thead>\n",
       "  <tbody>\n",
       "    <tr>\n",
       "      <th>0</th>\n",
       "      <td>Glycosphingolipid biosynthesis - globo series_...</td>\n",
       "      <td>1/14</td>\n",
       "      <td>0.006980</td>\n",
       "      <td>0.042347</td>\n",
       "      <td>0.010649</td>\n",
       "      <td>0.062034</td>\n",
       "      <td>-1.581753</td>\n",
       "      <td>7.853041</td>\n",
       "      <td>A4GALT</td>\n",
       "      <td>KEGG_2016</td>\n",
       "    </tr>\n",
       "    <tr>\n",
       "      <th>1</th>\n",
       "      <td>Tryptophan metabolism_Homo sapiens_hsa00380</td>\n",
       "      <td>1/40</td>\n",
       "      <td>0.019825</td>\n",
       "      <td>0.042839</td>\n",
       "      <td>0.028892</td>\n",
       "      <td>0.062034</td>\n",
       "      <td>-1.848648</td>\n",
       "      <td>7.248167</td>\n",
       "      <td>AADAT</td>\n",
       "      <td>KEGG_2016</td>\n",
       "    </tr>\n",
       "    <tr>\n",
       "      <th>2</th>\n",
       "      <td>Valine, leucine and isoleucine degradation_Hom...</td>\n",
       "      <td>1/48</td>\n",
       "      <td>0.023748</td>\n",
       "      <td>0.042839</td>\n",
       "      <td>0.034450</td>\n",
       "      <td>0.062034</td>\n",
       "      <td>-1.823710</td>\n",
       "      <td>6.821165</td>\n",
       "      <td>AACS</td>\n",
       "      <td>KEGG_2016</td>\n",
       "    </tr>\n",
       "    <tr>\n",
       "      <th>3</th>\n",
       "      <td>Butanoate metabolism_Homo sapiens_hsa00650</td>\n",
       "      <td>1/28</td>\n",
       "      <td>0.013915</td>\n",
       "      <td>0.042839</td>\n",
       "      <td>0.020506</td>\n",
       "      <td>0.062034</td>\n",
       "      <td>-1.582637</td>\n",
       "      <td>6.765411</td>\n",
       "      <td>AACS</td>\n",
       "      <td>KEGG_2016</td>\n",
       "    </tr>\n",
       "    <tr>\n",
       "      <th>4</th>\n",
       "      <td>2-Oxocarboxylic acid metabolism_Homo sapiens_h...</td>\n",
       "      <td>1/17</td>\n",
       "      <td>0.008469</td>\n",
       "      <td>0.042347</td>\n",
       "      <td>0.012768</td>\n",
       "      <td>0.062034</td>\n",
       "      <td>-1.369591</td>\n",
       "      <td>6.534713</td>\n",
       "      <td>AADAT</td>\n",
       "      <td>KEGG_2016</td>\n",
       "    </tr>\n",
       "    <tr>\n",
       "      <th>5</th>\n",
       "      <td>Lysine degradation_Homo sapiens_hsa00310</td>\n",
       "      <td>1/52</td>\n",
       "      <td>0.025704</td>\n",
       "      <td>0.042839</td>\n",
       "      <td>0.037220</td>\n",
       "      <td>0.062034</td>\n",
       "      <td>-1.724271</td>\n",
       "      <td>6.312770</td>\n",
       "      <td>AADAT</td>\n",
       "      <td>KEGG_2016</td>\n",
       "    </tr>\n",
       "    <tr>\n",
       "      <th>6</th>\n",
       "      <td>Biosynthesis of amino acids_Homo sapiens_hsa01230</td>\n",
       "      <td>1/74</td>\n",
       "      <td>0.036398</td>\n",
       "      <td>0.048517</td>\n",
       "      <td>0.052341</td>\n",
       "      <td>0.069688</td>\n",
       "      <td>-1.578342</td>\n",
       "      <td>5.229428</td>\n",
       "      <td>AADAT</td>\n",
       "      <td>KEGG_2016</td>\n",
       "    </tr>\n",
       "    <tr>\n",
       "      <th>7</th>\n",
       "      <td>Complement and coagulation cascades_Homo sapie...</td>\n",
       "      <td>1/79</td>\n",
       "      <td>0.038814</td>\n",
       "      <td>0.048517</td>\n",
       "      <td>0.055750</td>\n",
       "      <td>0.069688</td>\n",
       "      <td>-1.595878</td>\n",
       "      <td>5.184974</td>\n",
       "      <td>A2M</td>\n",
       "      <td>KEGG_2016</td>\n",
       "    </tr>\n",
       "    <tr>\n",
       "      <th>8</th>\n",
       "      <td>RNA transport_Homo sapiens_hsa03013</td>\n",
       "      <td>1/172</td>\n",
       "      <td>0.082765</td>\n",
       "      <td>0.091961</td>\n",
       "      <td>0.117405</td>\n",
       "      <td>0.130450</td>\n",
       "      <td>-1.673121</td>\n",
       "      <td>4.169001</td>\n",
       "      <td>AAAS</td>\n",
       "      <td>KEGG_2016</td>\n",
       "    </tr>\n",
       "    <tr>\n",
       "      <th>9</th>\n",
       "      <td>Metabolic pathways_Homo sapiens_hsa01100</td>\n",
       "      <td>2/1239</td>\n",
       "      <td>0.124020</td>\n",
       "      <td>0.124020</td>\n",
       "      <td>0.216188</td>\n",
       "      <td>0.216188</td>\n",
       "      <td>-1.788092</td>\n",
       "      <td>3.732308</td>\n",
       "      <td>AADAT;A4GALT</td>\n",
       "      <td>KEGG_2016</td>\n",
       "    </tr>\n",
       "  </tbody>\n",
       "</table>\n",
       "</div>"
      ],
      "text/plain": [
       "                                                Term Overlap   P-value  \\\n",
       "0  Glycosphingolipid biosynthesis - globo series_...    1/14  0.006980   \n",
       "1        Tryptophan metabolism_Homo sapiens_hsa00380    1/40  0.019825   \n",
       "2  Valine, leucine and isoleucine degradation_Hom...    1/48  0.023748   \n",
       "3         Butanoate metabolism_Homo sapiens_hsa00650    1/28  0.013915   \n",
       "4  2-Oxocarboxylic acid metabolism_Homo sapiens_h...    1/17  0.008469   \n",
       "5           Lysine degradation_Homo sapiens_hsa00310    1/52  0.025704   \n",
       "6  Biosynthesis of amino acids_Homo sapiens_hsa01230    1/74  0.036398   \n",
       "7  Complement and coagulation cascades_Homo sapie...    1/79  0.038814   \n",
       "8                RNA transport_Homo sapiens_hsa03013   1/172  0.082765   \n",
       "9           Metabolic pathways_Homo sapiens_hsa01100  2/1239  0.124020   \n",
       "\n",
       "   Adjusted P-value  Old P-value  Old Adjusted P-value   Z-score  \\\n",
       "0          0.042347     0.010649              0.062034 -1.581753   \n",
       "1          0.042839     0.028892              0.062034 -1.848648   \n",
       "2          0.042839     0.034450              0.062034 -1.823710   \n",
       "3          0.042839     0.020506              0.062034 -1.582637   \n",
       "4          0.042347     0.012768              0.062034 -1.369591   \n",
       "5          0.042839     0.037220              0.062034 -1.724271   \n",
       "6          0.048517     0.052341              0.069688 -1.578342   \n",
       "7          0.048517     0.055750              0.069688 -1.595878   \n",
       "8          0.091961     0.117405              0.130450 -1.673121   \n",
       "9          0.124020     0.216188              0.216188 -1.788092   \n",
       "\n",
       "   Combined Score         Genes   Gene_set  \n",
       "0        7.853041        A4GALT  KEGG_2016  \n",
       "1        7.248167         AADAT  KEGG_2016  \n",
       "2        6.821165          AACS  KEGG_2016  \n",
       "3        6.765411          AACS  KEGG_2016  \n",
       "4        6.534713         AADAT  KEGG_2016  \n",
       "5        6.312770         AADAT  KEGG_2016  \n",
       "6        5.229428         AADAT  KEGG_2016  \n",
       "7        5.184974           A2M  KEGG_2016  \n",
       "8        4.169001          AAAS  KEGG_2016  \n",
       "9        3.732308  AADAT;A4GALT  KEGG_2016  "
      ]
     },
     "execution_count": 6,
     "metadata": {},
     "output_type": "execute_result"
    }
   ],
   "source": [
    "#gene_list = Get up-regulated genes in partitions\n",
    "gene_list = highProt.columns[:10] #This will change to whatever the up-regulated genes are\n",
    "gene_list = gene_list.tolist()\n",
    "enr = gp.enrichr(gene_list = gene_list, description='MSI partitions', gene_sets='KEGG_2016', outdir='test/enrichr_kegg',cutoff=.5)\n",
    "enr.res2d"
   ]
  }
 ],
 "metadata": {
  "kernelspec": {
   "display_name": "Python 3",
   "language": "python",
   "name": "python3"
  },
  "language_info": {
   "codemirror_mode": {
    "name": "ipython",
    "version": 3
   },
   "file_extension": ".py",
   "mimetype": "text/x-python",
   "name": "python",
   "nbconvert_exporter": "python",
   "pygments_lexer": "ipython3",
   "version": "3.6.6"
  }
 },
 "nbformat": 4,
 "nbformat_minor": 2
}
