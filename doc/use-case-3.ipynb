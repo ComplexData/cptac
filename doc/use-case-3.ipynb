{
 "cells": [
  {
   "cell_type": "markdown",
   "metadata": {},
   "source": [
    "## Use Case 3: Comparing Clinical Threshold for Significant Genes"
   ]
  },
  {
   "cell_type": "markdown",
   "metadata": {},
   "source": [
    "## Step 1: Importing Packages and the Data\n",
    "\n",
    "First, load standard imports for playing with dataframes."
   ]
  },
  {
   "cell_type": "code",
   "execution_count": 2,
   "metadata": {},
   "outputs": [],
   "source": [
    "import pandas as pd\n",
    "import numpy as np\n",
    "import matplotlib.pyplot as plt\n",
    "import seaborn as sns\n",
    "from scipy import stats"
   ]
  },
  {
   "cell_type": "markdown",
   "metadata": {},
   "source": [
    "Next, load the CPTAC data we will be playing with."
   ]
  },
  {
   "cell_type": "code",
   "execution_count": 3,
   "metadata": {},
   "outputs": [
    {
     "name": "stdout",
     "output_type": "stream",
     "text": [
      "Welcome to the CPTAC data service package. This import contains\n",
      "information about the package. In order to access a specific data set,\n",
      "import a CPTAC subfolder by either 'import CPTAC.DataName' or 'from\n",
      "CPTAC import DataName'.\n",
      "Loading Endometrial CPTAC data:\n",
      "Loading Dictionary...\n",
      "Loading Clinical Data...\n",
      "Loading Proteomics Data...\n",
      "Loading Transcriptomics Data...\n",
      "Loading CNA Data...\n",
      "Loading Phosphoproteomics Data...\n",
      "Loading Somatic Mutation Data...\n",
      "\n",
      " ******PLEASE READ******\n",
      "WARNING: This data is under a publication embargo until July 1, 2019.\n",
      "CPTAC is a community resource project and data are made available\n",
      "rapidly after generation for community research use. The embargo\n",
      "allows exploring and utilizing the data, but the data may not be in a\n",
      "publication until July 1, 2019. Please see\n",
      "https://proteomics.cancer.gov/data-portal/about/data-use-agreement or\n",
      "enter embargo() to open the webpage for more details.\n"
     ]
    }
   ],
   "source": [
    "import CPTAC.Endometrial as en"
   ]
  },
  {
   "cell_type": "markdown",
   "metadata": {},
   "source": [
    "## Step 2: Getting data\n",
    "\n",
    "Load the clinical dataframe and the dataframe to compare it with, in this case, proteomics"
   ]
  },
  {
   "cell_type": "code",
   "execution_count": 4,
   "metadata": {},
   "outputs": [],
   "source": [
    "clinical = en.get_clinical()\n",
    "proteomics = en.get_proteomics()"
   ]
  },
  {
   "cell_type": "markdown",
   "metadata": {},
   "source": [
    "Columns of the clinical data can be viewed with <code>clinical.columns</code> command. To view all columns without truncation, first use the command <code>pd.set_option('display.max_seq_items', None)</code>. "
   ]
  },
  {
   "cell_type": "code",
   "execution_count": 5,
   "metadata": {},
   "outputs": [
    {
     "name": "stdout",
     "output_type": "stream",
     "text": [
      "Index(['Proteomics_Participant_ID', 'Case_excluded', 'Proteomics_TMT_batch',\n",
      "       'Proteomics_TMT_plex', 'Proteomics_TMT_channel',\n",
      "       'Proteomics_Parent_Sample_IDs', 'Proteomics_Aliquot_ID',\n",
      "       'Proteomics_Tumor_Normal', 'Proteomics_OCT', 'Country',\n",
      "       ...\n",
      "       'RNAseq_R1_sample_type', 'RNAseq_R1_filename', 'RNAseq_R1_UUID',\n",
      "       'RNAseq_R2_sample_type', 'RNAseq_R2_filename', 'RNAseq_R2_UUID',\n",
      "       'miRNAseq_sample_type', 'miRNAseq_UUID', 'Methylation_available',\n",
      "       'Methylation_quality'],\n",
      "      dtype='object', length=170)\n"
     ]
    }
   ],
   "source": [
    "print(clinical.columns)"
   ]
  },
  {
   "cell_type": "markdown",
   "metadata": {},
   "source": [
    "The trait we will be using for this example is the continuous variable for T cells memory activated"
   ]
  },
  {
   "cell_type": "code",
   "execution_count": 6,
   "metadata": {},
   "outputs": [],
   "source": [
    "trait = 'Pathway_activity_p53'"
   ]
  },
  {
   "cell_type": "markdown",
   "metadata": {},
   "source": [
    "## Step 3: Merge Dataframes\n",
    "\n",
    "Next we will use the <code>en.compare_clinical()</code> function to create a dataframe that appends a column from the clinical dataframe to our chosen dataframe"
   ]
  },
  {
   "cell_type": "code",
   "execution_count": 7,
   "metadata": {},
   "outputs": [
    {
     "data": {
      "text/html": [
       "<div>\n",
       "<style scoped>\n",
       "    .dataframe tbody tr th:only-of-type {\n",
       "        vertical-align: middle;\n",
       "    }\n",
       "\n",
       "    .dataframe tbody tr th {\n",
       "        vertical-align: top;\n",
       "    }\n",
       "\n",
       "    .dataframe thead th {\n",
       "        text-align: right;\n",
       "    }\n",
       "</style>\n",
       "<table border=\"1\" class=\"dataframe\">\n",
       "  <thead>\n",
       "    <tr style=\"text-align: right;\">\n",
       "      <th>idx</th>\n",
       "      <th>Pathway_activity_p53</th>\n",
       "      <th>A1BG</th>\n",
       "      <th>A2M</th>\n",
       "      <th>A2ML1</th>\n",
       "      <th>A4GALT</th>\n",
       "      <th>AAAS</th>\n",
       "      <th>AACS</th>\n",
       "      <th>AADAT</th>\n",
       "      <th>AAED1</th>\n",
       "      <th>AAGAB</th>\n",
       "      <th>...</th>\n",
       "      <th>ZSWIM8</th>\n",
       "      <th>ZSWIM9</th>\n",
       "      <th>ZW10</th>\n",
       "      <th>ZWILCH</th>\n",
       "      <th>ZWINT</th>\n",
       "      <th>ZXDC</th>\n",
       "      <th>ZYG11B</th>\n",
       "      <th>ZYX</th>\n",
       "      <th>ZZEF1</th>\n",
       "      <th>ZZZ3</th>\n",
       "    </tr>\n",
       "  </thead>\n",
       "  <tbody>\n",
       "    <tr>\n",
       "      <th>S001</th>\n",
       "      <td>-0.67</td>\n",
       "      <td>-1.180</td>\n",
       "      <td>-0.863</td>\n",
       "      <td>-0.802</td>\n",
       "      <td>0.222</td>\n",
       "      <td>0.2560</td>\n",
       "      <td>0.6650</td>\n",
       "      <td>1.2800</td>\n",
       "      <td>-0.3390</td>\n",
       "      <td>0.412</td>\n",
       "      <td>...</td>\n",
       "      <td>-0.08770</td>\n",
       "      <td>NaN</td>\n",
       "      <td>0.0229</td>\n",
       "      <td>0.1090</td>\n",
       "      <td>NaN</td>\n",
       "      <td>-0.3320</td>\n",
       "      <td>-0.43300</td>\n",
       "      <td>-1.020</td>\n",
       "      <td>-0.1230</td>\n",
       "      <td>-0.0859</td>\n",
       "    </tr>\n",
       "    <tr>\n",
       "      <th>S002</th>\n",
       "      <td>-0.53</td>\n",
       "      <td>-0.685</td>\n",
       "      <td>-1.070</td>\n",
       "      <td>-0.684</td>\n",
       "      <td>0.984</td>\n",
       "      <td>0.1350</td>\n",
       "      <td>0.3340</td>\n",
       "      <td>1.3000</td>\n",
       "      <td>0.1390</td>\n",
       "      <td>1.330</td>\n",
       "      <td>...</td>\n",
       "      <td>-0.03560</td>\n",
       "      <td>NaN</td>\n",
       "      <td>0.3630</td>\n",
       "      <td>1.0700</td>\n",
       "      <td>0.737</td>\n",
       "      <td>-0.5640</td>\n",
       "      <td>-0.00461</td>\n",
       "      <td>-1.130</td>\n",
       "      <td>-0.0757</td>\n",
       "      <td>-0.4730</td>\n",
       "    </tr>\n",
       "    <tr>\n",
       "      <th>S003</th>\n",
       "      <td>0.43</td>\n",
       "      <td>-0.528</td>\n",
       "      <td>-1.320</td>\n",
       "      <td>0.435</td>\n",
       "      <td>NaN</td>\n",
       "      <td>-0.2400</td>\n",
       "      <td>1.0400</td>\n",
       "      <td>-0.0213</td>\n",
       "      <td>-0.0479</td>\n",
       "      <td>0.419</td>\n",
       "      <td>...</td>\n",
       "      <td>0.00112</td>\n",
       "      <td>-0.1450</td>\n",
       "      <td>0.0105</td>\n",
       "      <td>-0.1160</td>\n",
       "      <td>NaN</td>\n",
       "      <td>0.1510</td>\n",
       "      <td>-0.07400</td>\n",
       "      <td>-0.540</td>\n",
       "      <td>0.3200</td>\n",
       "      <td>-0.4190</td>\n",
       "    </tr>\n",
       "    <tr>\n",
       "      <th>S004</th>\n",
       "      <td>NaN</td>\n",
       "      <td>2.350</td>\n",
       "      <td>2.820</td>\n",
       "      <td>-1.470</td>\n",
       "      <td>NaN</td>\n",
       "      <td>0.1540</td>\n",
       "      <td>0.0332</td>\n",
       "      <td>0.5130</td>\n",
       "      <td>0.6740</td>\n",
       "      <td>0.431</td>\n",
       "      <td>...</td>\n",
       "      <td>-0.53800</td>\n",
       "      <td>-0.4270</td>\n",
       "      <td>0.0926</td>\n",
       "      <td>1.2800</td>\n",
       "      <td>1.080</td>\n",
       "      <td>0.0695</td>\n",
       "      <td>0.30300</td>\n",
       "      <td>-0.325</td>\n",
       "      <td>0.2360</td>\n",
       "      <td>0.4430</td>\n",
       "    </tr>\n",
       "    <tr>\n",
       "      <th>S005</th>\n",
       "      <td>0.15</td>\n",
       "      <td>-1.670</td>\n",
       "      <td>-1.190</td>\n",
       "      <td>-0.443</td>\n",
       "      <td>0.243</td>\n",
       "      <td>-0.0993</td>\n",
       "      <td>0.7570</td>\n",
       "      <td>0.7400</td>\n",
       "      <td>-0.9290</td>\n",
       "      <td>0.229</td>\n",
       "      <td>...</td>\n",
       "      <td>0.07250</td>\n",
       "      <td>-0.0552</td>\n",
       "      <td>-0.0714</td>\n",
       "      <td>0.0933</td>\n",
       "      <td>0.156</td>\n",
       "      <td>-0.3980</td>\n",
       "      <td>-0.07520</td>\n",
       "      <td>-0.797</td>\n",
       "      <td>-0.0301</td>\n",
       "      <td>-0.4670</td>\n",
       "    </tr>\n",
       "  </tbody>\n",
       "</table>\n",
       "<p>5 rows × 11000 columns</p>\n",
       "</div>"
      ],
      "text/plain": [
       "idx   Pathway_activity_p53   A1BG    A2M  A2ML1  A4GALT    AAAS    AACS  \\\n",
       "S001                 -0.67 -1.180 -0.863 -0.802   0.222  0.2560  0.6650   \n",
       "S002                 -0.53 -0.685 -1.070 -0.684   0.984  0.1350  0.3340   \n",
       "S003                  0.43 -0.528 -1.320  0.435     NaN -0.2400  1.0400   \n",
       "S004                   NaN  2.350  2.820 -1.470     NaN  0.1540  0.0332   \n",
       "S005                  0.15 -1.670 -1.190 -0.443   0.243 -0.0993  0.7570   \n",
       "\n",
       "idx    AADAT   AAED1  AAGAB  ...   ZSWIM8  ZSWIM9    ZW10  ZWILCH  ZWINT  \\\n",
       "S001  1.2800 -0.3390  0.412  ... -0.08770     NaN  0.0229  0.1090    NaN   \n",
       "S002  1.3000  0.1390  1.330  ... -0.03560     NaN  0.3630  1.0700  0.737   \n",
       "S003 -0.0213 -0.0479  0.419  ...  0.00112 -0.1450  0.0105 -0.1160    NaN   \n",
       "S004  0.5130  0.6740  0.431  ... -0.53800 -0.4270  0.0926  1.2800  1.080   \n",
       "S005  0.7400 -0.9290  0.229  ...  0.07250 -0.0552 -0.0714  0.0933  0.156   \n",
       "\n",
       "idx     ZXDC   ZYG11B    ZYX   ZZEF1    ZZZ3  \n",
       "S001 -0.3320 -0.43300 -1.020 -0.1230 -0.0859  \n",
       "S002 -0.5640 -0.00461 -1.130 -0.0757 -0.4730  \n",
       "S003  0.1510 -0.07400 -0.540  0.3200 -0.4190  \n",
       "S004  0.0695  0.30300 -0.325  0.2360  0.4430  \n",
       "S005 -0.3980 -0.07520 -0.797 -0.0301 -0.4670  \n",
       "\n",
       "[5 rows x 11000 columns]"
      ]
     },
     "execution_count": 7,
     "metadata": {},
     "output_type": "execute_result"
    }
   ],
   "source": [
    "traitProt = en.compare_clinical(proteomics, trait)\n",
    "traitProt.head()"
   ]
  },
  {
   "cell_type": "markdown",
   "metadata": {},
   "source": [
    "## Step 4: Statistical Analysis\n",
    "\n",
    "The next step is more statistically intensive. We are looking for genes that have a significant correlation with the chosen clinical attribute. First we will establish a lower p-value threshold due to such a large sample size of genes by dividing .05 (the usual p-value) by the number of genes (or columns).\n",
    "\n",
    "Next we will loop through the genes, testing each with a SpearmanR correlation test, only listing those that fall within our parameters of significant"
   ]
  },
  {
   "cell_type": "code",
   "execution_count": 8,
   "metadata": {},
   "outputs": [
    {
     "name": "stdout",
     "output_type": "stream",
     "text": [
      "Threshold: 4.5454545454545455e-06\n",
      "SpearmanrResult(correlation=0.5163908610313054, pvalue=2.2193065109225645e-07)\n",
      "SpearmanrResult(correlation=-0.5196493254270892, pvalue=6.803872988798687e-08)\n",
      "SpearmanrResult(correlation=-0.512437880703719, pvalue=1.1047601933785191e-07)\n",
      "SpearmanrResult(correlation=-0.5310749098407427, pvalue=3.0836308255695726e-08)\n",
      "SpearmanrResult(correlation=-0.5219427182769559, pvalue=5.8180881366640145e-08)\n",
      "SpearmanrResult(correlation=-0.5181594847541582, pvalue=7.527435145468716e-08)\n",
      "SpearmanrResult(correlation=-0.5110854794128336, pvalue=3.092274373023385e-07)\n",
      "SpearmanrResult(correlation=0.5825587253690367, pvalue=4.414786927952596e-07)\n",
      "SpearmanrResult(correlation=-0.517066035119974, pvalue=8.104508894418577e-08)\n",
      "SpearmanrResult(correlation=0.5586352677701082, pvalue=4.032275930670269e-09)\n",
      "SpearmanrResult(correlation=-0.5160791343030166, pvalue=8.661316256665918e-08)\n",
      "SpearmanrResult(correlation=0.5299340874050138, pvalue=2.17370887957826e-07)\n",
      "SpearmanrResult(correlation=0.5379271732275064, pvalue=1.891310302346198e-08)\n",
      "SpearmanrResult(correlation=0.6010069477358699, pvalue=7.508563325848414e-09)\n",
      "SpearmanrResult(correlation=-0.5447988412541642, pvalue=1.1456637350162332e-08)\n",
      "SpearmanrResult(correlation=-0.5062573058855161, pvalue=1.659038530854397e-07)\n",
      "SpearmanrResult(correlation=0.5096414302506961, pvalue=1.32922808056243e-07)\n",
      "SpearmanrResult(correlation=-0.5107403833129314, pvalue=1.2362789468652927e-07)\n",
      "SpearmanrResult(correlation=-0.5020175334871678, pvalue=2.1826902074946783e-07)\n",
      "SpearmanrResult(correlation=0.6361851574579269, pvalue=4.271781151978978e-12)\n",
      "SpearmanrResult(correlation=0.522990939670006, pvalue=5.414316560215312e-08)\n",
      "SpearmanrResult(correlation=0.5073335132335955, pvalue=1.5465288074526698e-07)\n",
      "SpearmanrResult(correlation=0.6240835430802478, pvalue=1.4106742955069561e-11)\n",
      "SpearmanrResult(correlation=-0.5096642114749507, pvalue=1.3272354996771984e-07)\n",
      "SpearmanrResult(correlation=0.5178569556328547, pvalue=7.683054514736193e-08)\n",
      "SpearmanrResult(correlation=-0.5102452206084487, pvalue=1.277367030619717e-07)\n",
      "SpearmanrResult(correlation=-0.5112268327224907, pvalue=1.1971406366335684e-07)\n",
      "SpearmanrResult(correlation=-0.5189835769175943, pvalue=7.118609672653786e-08)\n",
      "SpearmanrResult(correlation=-0.51888753601404, pvalue=7.165142518945307e-08)\n",
      "SpearmanrResult(correlation=-0.5225200007407292, pvalue=5.592300701761968e-08)\n",
      "SpearmanrResult(correlation=-0.5343629265828986, pvalue=2.442196786866712e-08)\n",
      "SpearmanrResult(correlation=-0.5534102563071119, pvalue=6.014998613523979e-09)\n",
      "SpearmanrResult(correlation=-0.5275034475825247, pvalue=3.961508192134114e-08)\n",
      "SpearmanrResult(correlation=-0.5797482355899218, pvalue=7.450927926349215e-10)\n",
      "SpearmanrResult(correlation=0.5077779685660551, pvalue=1.5022147884209765e-07)\n",
      "SpearmanrResult(correlation=0.576290049246763, pvalue=9.906093922514056e-10)\n",
      "SpearmanrResult(correlation=-0.5519765947721943, pvalue=6.7045821671508136e-09)\n",
      "SpearmanrResult(correlation=-0.5868000268883946, pvalue=4.125356501262605e-10)\n",
      "SpearmanrResult(correlation=-0.5292468678985776, pvalue=3.506770622820531e-08)\n",
      "SpearmanrResult(correlation=-0.5186354319244421, pvalue=7.288672232790197e-08)\n",
      "SpearmanrResult(correlation=-0.6204238049007352, pvalue=2.00423485867741e-11)\n",
      "SpearmanrResult(correlation=-0.6227497344090159, pvalue=1.604147088545023e-11)\n",
      "SpearmanrResult(correlation=-0.5055416933106089, pvalue=1.7381134920193402e-07)\n",
      "SpearmanrResult(correlation=-0.5029939285254248, pvalue=2.049738877692401e-07)\n",
      "SpearmanrResult(correlation=0.5268072123725491, pvalue=4.1583805089065896e-08)\n",
      "SpearmanrResult(correlation=0.5125922275498609, pvalue=2.0539171665668063e-07)\n",
      "SpearmanrResult(correlation=0.6769905933929008, pvalue=5.010487512043083e-14)\n",
      "SpearmanrResult(correlation=0.5522736981065615, pvalue=6.5557403624828876e-09)\n",
      "SpearmanrResult(correlation=-0.5452222972150036, pvalue=1.1104040487451354e-08)\n",
      "SpearmanrResult(correlation=-0.5106441061370006, pvalue=1.2441681214995607e-07)\n",
      "SpearmanrResult(correlation=-0.5750001754876147, pvalue=1.100706121783115e-09)\n",
      "SpearmanrResult(correlation=0.5129486536541684, pvalue=1.067868006290746e-07)\n",
      "SpearmanrResult(correlation=-0.5867539243879396, pvalue=4.1415226705421865e-10)\n",
      "SpearmanrResult(correlation=0.5015153427115042, pvalue=2.2542235283937624e-07)\n",
      "SpearmanrResult(correlation=-0.5249192458761888, pvalue=4.740285210111373e-08)\n",
      "SpearmanrResult(correlation=0.5219275920440661, pvalue=4.1896499740723307e-07)\n",
      "SpearmanrResult(correlation=0.530325990349033, pvalue=3.2507316628227717e-08)\n",
      "SpearmanrResult(correlation=-0.529507284780555, pvalue=3.4432774976612195e-08)\n",
      "SpearmanrResult(correlation=-0.5176609753287782, pvalue=7.785496116022815e-08)\n",
      "59\n",
      "['ANXA9', 'CCNA2', 'CCNB1', 'CENPF', 'CHEK1', 'CHERP', 'CKS1B', 'CLCA4', 'DCK', 'DLG5', 'DPH2', 'ERICH3', 'FAS', 'FGFBP1', 'GMPS', 'GPATCH4', 'INPP4B', 'KIF2C', 'KIF4A', 'KRT13', 'KRT16', 'KRT5', 'KRT6A', 'LIG1', 'MAPRE3', 'MCM2', 'MCM3', 'MCM4', 'MCM5', 'MCM7', 'MDC1', 'PARP1', 'PARP2', 'PCNA', 'PHLDA3', 'PPL', 'RAD1', 'RANGAP1', 'RFC2', 'RFC3', 'RFC4', 'RFC5', 'RIF1', 'RIOX2', 'SCEL', 'SDCBP2', 'SERPINB5', 'SPATA18', 'SUPT6H', 'TCEA1', 'TOPBP1', 'TPPP3', 'TPX2', 'TRAPPC13', 'TRIP13', 'TSGA10', 'TTC9', 'USP28', 'WDHD1']\n"
     ]
    }
   ],
   "source": [
    "threshold = .05 / len(traitProt.columns)\n",
    "tscutoff = 0.5\n",
    "print(\"Threshold:\", threshold)\n",
    "significantTests = []\n",
    "significantGenes = []\n",
    "for num in range(1,len(traitProt.columns)):\n",
    "    gene = traitProt.columns[num]\n",
    "    oneGene = traitProt[[trait, gene]]\n",
    "    oneGene = oneGene.dropna(axis=0)\n",
    "    spearmanrTest = stats.spearmanr(oneGene[trait], oneGene[gene])\n",
    "    if (abs(spearmanrTest[0]) >= tscutoff) and (spearmanrTest[0] < 1) and (spearmanrTest[1] <= threshold) and (spearmanrTest[1] > 0):\n",
    "        print(spearmanrTest)\n",
    "        significantTests.append(spearmanrTest)\n",
    "        significantGenes.append(gene)\n",
    "print(len(significantGenes))\n",
    "print(significantGenes)"
   ]
  },
  {
   "cell_type": "code",
   "execution_count": null,
   "metadata": {},
   "outputs": [],
   "source": []
  },
  {
   "cell_type": "code",
   "execution_count": null,
   "metadata": {},
   "outputs": [],
   "source": []
  }
 ],
 "metadata": {
  "kernelspec": {
   "display_name": "Python 3",
   "language": "python",
   "name": "python3"
  },
  "language_info": {
   "codemirror_mode": {
    "name": "ipython",
    "version": 3
   },
   "file_extension": ".py",
   "mimetype": "text/x-python",
   "name": "python",
   "nbconvert_exporter": "python",
   "pygments_lexer": "ipython3",
   "version": "3.7.2"
  }
 },
 "nbformat": 4,
 "nbformat_minor": 2
}
