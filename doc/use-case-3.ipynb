{
 "cells": [
  {
   "cell_type": "markdown",
   "metadata": {},
   "source": [
    "# Use Case 3: Associating Clinical Variables with Acetylation"
   ]
  },
  {
   "cell_type": "markdown",
   "metadata": {},
   "source": [
    "For this use case we will show how to analyze the acetylation data with a clinical attribute. We will use the clinical attribute \"Histologic_type\", but you can apply the processes shown here to many other clinical attributes. Our goal is to identify which acetylation sites differ significantly in frequency between non-tumor, serous and endometrial cells."
   ]
  },
  {
   "cell_type": "markdown",
   "metadata": {},
   "source": [
    "# Step 1: Import Packages and Load Data"
   ]
  },
  {
   "cell_type": "markdown",
   "metadata": {},
   "source": [
    "We will start by importing the data analysis tools we need, importing the cptac package, and loading the Endometrial dataset."
   ]
  },
  {
   "cell_type": "code",
   "execution_count": null,
   "metadata": {},
   "outputs": [],
   "source": [
    "import pandas as pd\n",
    "import numpy as np\n",
    "import scipy.stats\n",
    "import statsmodels.stats.multitest\n",
    "import matplotlib.pyplot as plt\n",
    "import seaborn as sns\n",
    "import math\n",
    "import cptac\n",
    "en = cptac.Endometrial()"
   ]
  },
  {
   "cell_type": "markdown",
   "metadata": {},
   "source": [
    "# Step 2: Choose Clinical Attribute and Merge Dataframes"
   ]
  },
  {
   "cell_type": "markdown",
   "metadata": {},
   "source": [
    "If you want to see all the different variables available in the clinical data, you can call <code>en.get_clinical().columns</code>. For this use case, we will use the 'Histologic_type' clinical attribute in order to find differences in acetylation sites between \"endometrioid\" and \"serous\" cancer cells. "
   ]
  },
  {
   "cell_type": "code",
   "execution_count": 2,
   "metadata": {},
   "outputs": [],
   "source": [
    "#Set desired attribute to variable 'clinical_attribute'\n",
    "clinical_attribute = \"Histologic_type\""
   ]
  },
  {
   "cell_type": "markdown",
   "metadata": {},
   "source": [
    "Here we will merge our desired clinical attribute with our acetylation dataframe using the <code>en.compare_omics</code> method."
   ]
  },
  {
   "cell_type": "code",
   "execution_count": 3,
   "metadata": {},
   "outputs": [
    {
     "data": {
      "text/html": [
       "<div>\n",
       "<style scoped>\n",
       "    .dataframe tbody tr th:only-of-type {\n",
       "        vertical-align: middle;\n",
       "    }\n",
       "\n",
       "    .dataframe tbody tr th {\n",
       "        vertical-align: top;\n",
       "    }\n",
       "\n",
       "    .dataframe thead th {\n",
       "        text-align: right;\n",
       "    }\n",
       "</style>\n",
       "<table border=\"1\" class=\"dataframe\">\n",
       "  <thead>\n",
       "    <tr style=\"text-align: right;\">\n",
       "      <th></th>\n",
       "      <th>Histologic_type</th>\n",
       "      <th>A2M-K1168_acetylproteomics</th>\n",
       "      <th>A2M-K1176_acetylproteomics</th>\n",
       "      <th>A2M-K135_acetylproteomics</th>\n",
       "      <th>A2M-K145_acetylproteomics</th>\n",
       "      <th>A2M-K516_acetylproteomics</th>\n",
       "      <th>A2M-K664_acetylproteomics</th>\n",
       "      <th>A2M-K682_acetylproteomics</th>\n",
       "      <th>AACS-K391_acetylproteomics</th>\n",
       "      <th>AAGAB-K290_acetylproteomics</th>\n",
       "      <th>...</th>\n",
       "      <th>ZSCAN31-K215_acetylproteomics</th>\n",
       "      <th>ZSCAN32-K659_acetylproteomics</th>\n",
       "      <th>ZW10-K634_acetylproteomics</th>\n",
       "      <th>ZYX-K24_acetylproteomics</th>\n",
       "      <th>ZYX-K25_acetylproteomics</th>\n",
       "      <th>ZYX-K265_acetylproteomics</th>\n",
       "      <th>ZYX-K272_acetylproteomics</th>\n",
       "      <th>ZYX-K279_acetylproteomics</th>\n",
       "      <th>ZYX-K533_acetylproteomics</th>\n",
       "      <th>ZZZ3-K117_acetylproteomics</th>\n",
       "    </tr>\n",
       "    <tr>\n",
       "      <th>Sample_ID</th>\n",
       "      <th></th>\n",
       "      <th></th>\n",
       "      <th></th>\n",
       "      <th></th>\n",
       "      <th></th>\n",
       "      <th></th>\n",
       "      <th></th>\n",
       "      <th></th>\n",
       "      <th></th>\n",
       "      <th></th>\n",
       "      <th></th>\n",
       "      <th></th>\n",
       "      <th></th>\n",
       "      <th></th>\n",
       "      <th></th>\n",
       "      <th></th>\n",
       "      <th></th>\n",
       "      <th></th>\n",
       "      <th></th>\n",
       "      <th></th>\n",
       "      <th></th>\n",
       "    </tr>\n",
       "  </thead>\n",
       "  <tbody>\n",
       "    <tr>\n",
       "      <th>S001</th>\n",
       "      <td>Endometrioid</td>\n",
       "      <td>NaN</td>\n",
       "      <td>1.080</td>\n",
       "      <td>NaN</td>\n",
       "      <td>NaN</td>\n",
       "      <td>NaN</td>\n",
       "      <td>NaN</td>\n",
       "      <td>NaN</td>\n",
       "      <td>NaN</td>\n",
       "      <td>0.461</td>\n",
       "      <td>...</td>\n",
       "      <td>NaN</td>\n",
       "      <td>NaN</td>\n",
       "      <td>NaN</td>\n",
       "      <td>NaN</td>\n",
       "      <td>NaN</td>\n",
       "      <td>NaN</td>\n",
       "      <td>NaN</td>\n",
       "      <td>NaN</td>\n",
       "      <td>NaN</td>\n",
       "      <td>NaN</td>\n",
       "    </tr>\n",
       "    <tr>\n",
       "      <th>S002</th>\n",
       "      <td>Endometrioid</td>\n",
       "      <td>NaN</td>\n",
       "      <td>0.477</td>\n",
       "      <td>NaN</td>\n",
       "      <td>NaN</td>\n",
       "      <td>NaN</td>\n",
       "      <td>NaN</td>\n",
       "      <td>NaN</td>\n",
       "      <td>NaN</td>\n",
       "      <td>1.770</td>\n",
       "      <td>...</td>\n",
       "      <td>-0.104</td>\n",
       "      <td>-0.80300</td>\n",
       "      <td>NaN</td>\n",
       "      <td>-0.988</td>\n",
       "      <td>-0.343</td>\n",
       "      <td>-0.307</td>\n",
       "      <td>NaN</td>\n",
       "      <td>-0.0955</td>\n",
       "      <td>NaN</td>\n",
       "      <td>NaN</td>\n",
       "    </tr>\n",
       "    <tr>\n",
       "      <th>S003</th>\n",
       "      <td>Endometrioid</td>\n",
       "      <td>NaN</td>\n",
       "      <td>NaN</td>\n",
       "      <td>NaN</td>\n",
       "      <td>NaN</td>\n",
       "      <td>NaN</td>\n",
       "      <td>NaN</td>\n",
       "      <td>NaN</td>\n",
       "      <td>NaN</td>\n",
       "      <td>-0.815</td>\n",
       "      <td>...</td>\n",
       "      <td>NaN</td>\n",
       "      <td>NaN</td>\n",
       "      <td>NaN</td>\n",
       "      <td>-0.459</td>\n",
       "      <td>-1.170</td>\n",
       "      <td>NaN</td>\n",
       "      <td>NaN</td>\n",
       "      <td>-0.7050</td>\n",
       "      <td>0.089</td>\n",
       "      <td>NaN</td>\n",
       "    </tr>\n",
       "    <tr>\n",
       "      <th>S005</th>\n",
       "      <td>Endometrioid</td>\n",
       "      <td>NaN</td>\n",
       "      <td>-0.608</td>\n",
       "      <td>NaN</td>\n",
       "      <td>NaN</td>\n",
       "      <td>-0.919</td>\n",
       "      <td>NaN</td>\n",
       "      <td>NaN</td>\n",
       "      <td>NaN</td>\n",
       "      <td>NaN</td>\n",
       "      <td>...</td>\n",
       "      <td>-0.457</td>\n",
       "      <td>-0.00175</td>\n",
       "      <td>-0.33</td>\n",
       "      <td>NaN</td>\n",
       "      <td>-0.537</td>\n",
       "      <td>NaN</td>\n",
       "      <td>NaN</td>\n",
       "      <td>-0.3700</td>\n",
       "      <td>NaN</td>\n",
       "      <td>NaN</td>\n",
       "    </tr>\n",
       "    <tr>\n",
       "      <th>S006</th>\n",
       "      <td>Serous</td>\n",
       "      <td>NaN</td>\n",
       "      <td>1.630</td>\n",
       "      <td>NaN</td>\n",
       "      <td>2.4</td>\n",
       "      <td>NaN</td>\n",
       "      <td>NaN</td>\n",
       "      <td>1.26</td>\n",
       "      <td>NaN</td>\n",
       "      <td>0.205</td>\n",
       "      <td>...</td>\n",
       "      <td>NaN</td>\n",
       "      <td>0.41100</td>\n",
       "      <td>NaN</td>\n",
       "      <td>NaN</td>\n",
       "      <td>-0.358</td>\n",
       "      <td>NaN</td>\n",
       "      <td>NaN</td>\n",
       "      <td>-0.9700</td>\n",
       "      <td>NaN</td>\n",
       "      <td>NaN</td>\n",
       "    </tr>\n",
       "  </tbody>\n",
       "</table>\n",
       "<p>5 rows × 10863 columns</p>\n",
       "</div>"
      ],
      "text/plain": [
       "          Histologic_type  A2M-K1168_acetylproteomics  \\\n",
       "Sample_ID                                               \n",
       "S001         Endometrioid                         NaN   \n",
       "S002         Endometrioid                         NaN   \n",
       "S003         Endometrioid                         NaN   \n",
       "S005         Endometrioid                         NaN   \n",
       "S006               Serous                         NaN   \n",
       "\n",
       "           A2M-K1176_acetylproteomics  A2M-K135_acetylproteomics  \\\n",
       "Sample_ID                                                          \n",
       "S001                            1.080                        NaN   \n",
       "S002                            0.477                        NaN   \n",
       "S003                              NaN                        NaN   \n",
       "S005                           -0.608                        NaN   \n",
       "S006                            1.630                        NaN   \n",
       "\n",
       "           A2M-K145_acetylproteomics  A2M-K516_acetylproteomics  \\\n",
       "Sample_ID                                                         \n",
       "S001                             NaN                        NaN   \n",
       "S002                             NaN                        NaN   \n",
       "S003                             NaN                        NaN   \n",
       "S005                             NaN                     -0.919   \n",
       "S006                             2.4                        NaN   \n",
       "\n",
       "           A2M-K664_acetylproteomics  A2M-K682_acetylproteomics  \\\n",
       "Sample_ID                                                         \n",
       "S001                             NaN                        NaN   \n",
       "S002                             NaN                        NaN   \n",
       "S003                             NaN                        NaN   \n",
       "S005                             NaN                        NaN   \n",
       "S006                             NaN                       1.26   \n",
       "\n",
       "           AACS-K391_acetylproteomics  AAGAB-K290_acetylproteomics  ...  \\\n",
       "Sample_ID                                                           ...   \n",
       "S001                              NaN                        0.461  ...   \n",
       "S002                              NaN                        1.770  ...   \n",
       "S003                              NaN                       -0.815  ...   \n",
       "S005                              NaN                          NaN  ...   \n",
       "S006                              NaN                        0.205  ...   \n",
       "\n",
       "           ZSCAN31-K215_acetylproteomics  ZSCAN32-K659_acetylproteomics  \\\n",
       "Sample_ID                                                                 \n",
       "S001                                 NaN                            NaN   \n",
       "S002                              -0.104                       -0.80300   \n",
       "S003                                 NaN                            NaN   \n",
       "S005                              -0.457                       -0.00175   \n",
       "S006                                 NaN                        0.41100   \n",
       "\n",
       "           ZW10-K634_acetylproteomics  ZYX-K24_acetylproteomics  \\\n",
       "Sample_ID                                                         \n",
       "S001                              NaN                       NaN   \n",
       "S002                              NaN                    -0.988   \n",
       "S003                              NaN                    -0.459   \n",
       "S005                            -0.33                       NaN   \n",
       "S006                              NaN                       NaN   \n",
       "\n",
       "           ZYX-K25_acetylproteomics  ZYX-K265_acetylproteomics  \\\n",
       "Sample_ID                                                        \n",
       "S001                            NaN                        NaN   \n",
       "S002                         -0.343                     -0.307   \n",
       "S003                         -1.170                        NaN   \n",
       "S005                         -0.537                        NaN   \n",
       "S006                         -0.358                        NaN   \n",
       "\n",
       "           ZYX-K272_acetylproteomics  ZYX-K279_acetylproteomics  \\\n",
       "Sample_ID                                                         \n",
       "S001                             NaN                        NaN   \n",
       "S002                             NaN                    -0.0955   \n",
       "S003                             NaN                    -0.7050   \n",
       "S005                             NaN                    -0.3700   \n",
       "S006                             NaN                    -0.9700   \n",
       "\n",
       "           ZYX-K533_acetylproteomics  ZZZ3-K117_acetylproteomics  \n",
       "Sample_ID                                                         \n",
       "S001                             NaN                         NaN  \n",
       "S002                             NaN                         NaN  \n",
       "S003                           0.089                         NaN  \n",
       "S005                             NaN                         NaN  \n",
       "S006                             NaN                         NaN  \n",
       "\n",
       "[5 rows x 10863 columns]"
      ]
     },
     "execution_count": 3,
     "metadata": {},
     "output_type": "execute_result"
    }
   ],
   "source": [
    "#Merge attribute with acetylation dataframe\n",
    "clinical_and_acetylation = en.append_metadata_to_omics(metadata_df_name=\"clinical\", omics_df_name=\"acetylproteomics\", metadata_cols=clinical_attribute)\n",
    "clinical_and_acetylation.head()"
   ]
  },
  {
   "cell_type": "markdown",
   "metadata": {},
   "source": [
    "# Step 3: Make Different Dataframes and Establish Threshold"
   ]
  },
  {
   "cell_type": "code",
   "execution_count": 4,
   "metadata": {},
   "outputs": [
    {
     "data": {
      "text/plain": [
       "array(['Endometrioid', 'Serous', nan], dtype=object)"
      ]
     },
     "execution_count": 4,
     "metadata": {},
     "output_type": "execute_result"
    }
   ],
   "source": [
    "#Show possible variations of Histologic_type\n",
    "clinical_and_acetylation[clinical_attribute].unique()"
   ]
  },
  {
   "cell_type": "markdown",
   "metadata": {},
   "source": [
    "In this step, we will make two different dataframes for \"Endometrioid\" and \"Serous\" cancer types, as well as fill the NaN columns with \"Non-Tumor.\""
   ]
  },
  {
   "cell_type": "code",
   "execution_count": 5,
   "metadata": {},
   "outputs": [],
   "source": [
    "#Make dataframes with only endometrioid and only serous data in order to compare \n",
    "endom = clinical_and_acetylation.loc[clinical_and_acetylation[clinical_attribute] == \"Endometrioid\"]\n",
    "serous = clinical_and_acetylation.loc[clinical_and_acetylation[clinical_attribute] == \"Serous\"]\n",
    "#Here is where we set the NaN values to \"Non_Tumor\"\n",
    "clinical_and_acetylation[[clinical_attribute]] = clinical_and_acetylation[[clinical_attribute]].fillna(value=\"Non_Tumor\")"
   ]
  },
  {
   "cell_type": "markdown",
   "metadata": {},
   "source": [
    "Now that we have our different dataframes, we want to make sure that the amount of data we are using for each site is significant. Since there are fewer patients with \"serous\" tumors than with \"endometrioid,\" we will check to make sure that we have at least five values for each acetylation site that we are comparing that have a measurement of intensity for serous patients."
   ]
  },
  {
   "cell_type": "code",
   "execution_count": 6,
   "metadata": {},
   "outputs": [
    {
     "name": "stdout",
     "output_type": "stream",
     "text": [
      "Number of sites with sufficient data:  3936\n",
      "Multiple hypothesis adjusted threshold:  1.2703252032520325e-05\n"
     ]
    }
   ],
   "source": [
    "num_sites_sufficient_data = 0\n",
    "for num in range(1,len(serous.columns)):\n",
    "    site = serous.columns[num]\n",
    "    oneSite = serous[site]\n",
    "    num_datapoints = oneSite.count() #Here we count the number of datapoints that we have at each site\n",
    "    if num_datapoints >= 5:\n",
    "        num_sites_sufficient_data += 1\n",
    "print(\"Number of sites with sufficient data: \", num_sites_sufficient_data)\n",
    "threshold = .05 / num_sites_sufficient_data\n",
    "print(\"Multiple hypothesis adjusted threshold: \", threshold)"
   ]
  },
  {
   "cell_type": "markdown",
   "metadata": {},
   "source": [
    "# Step 4: Compare Endometrioid and Serous Values"
   ]
  },
  {
   "cell_type": "markdown",
   "metadata": {},
   "source": [
    "Now that we have a calculated threshold value, we will loop through the data and compare endometrioid versus serous data for each acetylation site. If we find a site that is significantly different, we will add it to a list."
   ]
  },
  {
   "cell_type": "code",
   "execution_count": 7,
   "metadata": {},
   "outputs": [
    {
     "name": "stdout",
     "output_type": "stream",
     "text": [
      "Number of sites with statistically significant difference between endometrioid and serous values: 8\n"
     ]
    }
   ],
   "source": [
    "significantTests = []\n",
    "significantSites = []\n",
    "sigSiteCount = 0\n",
    "p_value_index = 1\n",
    "np.warnings.filterwarnings('ignore')\n",
    "for num in range(1,len(clinical_and_acetylation.columns)):\n",
    "    site = clinical_and_acetylation.columns[num]\n",
    "    ttestRes = scipy.stats.ttest_ind(endom[site], serous[site])#This returns a tuple, with the t-statistic as \n",
    "    #the first value and the p-value as the second(index 1). We are interested in the p-value.\n",
    "    if (ttestRes[p_value_index] <= threshold): #Check if there is a significant enough difference between data points\n",
    "        sigSiteCount += 1\n",
    "        significantTests.append(ttestRes)\n",
    "        significantSites.append(site)\n",
    "print(\"Number of sites with statistically significant difference between endometrioid and serous values: \" + str(sigSiteCount))"
   ]
  },
  {
   "cell_type": "code",
   "execution_count": 8,
   "metadata": {},
   "outputs": [
    {
     "name": "stdout",
     "output_type": "stream",
     "text": [
      "['FOXA2-K280_acetylproteomics', 'FUS-K332_acetylproteomics', 'JADE3-K32_acetylproteomics', 'MCRS1-K136_acetylproteomics', 'MEAF6-K69_acetylproteomics', 'NCL-K398_acetylproteomics', 'SUPT16H-K674_acetylproteomics', 'TBL1XR1-K102_acetylproteomics']\n"
     ]
    }
   ],
   "source": [
    "print(significantSites)"
   ]
  },
  {
   "cell_type": "markdown",
   "metadata": {},
   "source": [
    "# Step 5: Graph Results"
   ]
  },
  {
   "cell_type": "markdown",
   "metadata": {},
   "source": [
    "Now that we have eight acetylation sites that differ significantly between endometrioid and serous intensities, we will graph a couple of them using a boxplot and a stripplot in order to visually see the difference, as well as compare with normal cells."
   ]
  },
  {
   "cell_type": "code",
   "execution_count": 9,
   "metadata": {},
   "outputs": [
    {
     "name": "stdout",
     "output_type": "stream",
     "text": [
      "Ttest_indResult(statistic=5.991702127182772, pvalue=3.89570439448459e-08)\n"
     ]
    },
    {
     "data": {
      "text/plain": [
       "<matplotlib.axes._subplots.AxesSubplot at 0x7f7360b92208>"
      ]
     },
     "execution_count": 9,
     "metadata": {},
     "output_type": "execute_result"
    },
    {
     "data": {
      "image/png": "[encoded data removed]",
      "text/plain": [
       "<Figure size 432x288 with 1 Axes>"
      ]
     },
     "metadata": {
      "needs_background": "light"
     },
     "output_type": "display_data"
    }
   ],
   "source": [
    "graphingSite = 'FOXA2-K280_acetylproteomics'\n",
    "print(scipy.stats.ttest_ind(endom[graphingSite], serous[graphingSite]))\n",
    "sns.boxplot(x=clinical_attribute, y=graphingSite, data = clinical_and_acetylation, showfliers = False, order = [\"Non_Tumor\", \"Endometrioid\", \"Serous\"])\n",
    "sns.stripplot(x=clinical_attribute, y=graphingSite, data = clinical_and_acetylation, color = '.3', order = [\"Non_Tumor\", \"Endometrioid\", \"Serous\"])\n",
    "#color = '.3' makes the dots black"
   ]
  },
  {
   "cell_type": "code",
   "execution_count": 10,
   "metadata": {},
   "outputs": [
    {
     "name": "stdout",
     "output_type": "stream",
     "text": [
      "Ttest_indResult(statistic=-6.058405376720225, pvalue=2.8961545616585778e-08)\n"
     ]
    },
    {
     "data": {
      "text/plain": [
       "<matplotlib.axes._subplots.AxesSubplot at 0x7f7360af1eb8>"
      ]
     },
     "execution_count": 10,
     "metadata": {},
     "output_type": "execute_result"
    },
    {
     "data": {
      "image/png": "[encoded data removed]",
      "text/plain": [
       "<Figure size 432x288 with 1 Axes>"
      ]
     },
     "metadata": {
      "needs_background": "light"
     },
     "output_type": "display_data"
    }
   ],
   "source": [
    "graphingSite = 'TBL1XR1-K102_acetylproteomics'\n",
    "print(scipy.stats.ttest_ind(endom[graphingSite], serous[graphingSite]))\n",
    "sns.boxplot(x=clinical_attribute, y=graphingSite, data = clinical_and_acetylation, showfliers = False, order = [\"Non_Tumor\", \"Endometrioid\", \"Serous\"])\n",
    "sns.stripplot(x=clinical_attribute, y=graphingSite, data = clinical_and_acetylation, color = '.3', order = [\"Non_Tumor\", \"Endometrioid\", \"Serous\"])"
   ]
  }
 ],
 "metadata": {
  "kernelspec": {
   "display_name": "Python 3",
   "language": "python",
   "name": "python3"
  },
  "language_info": {
   "codemirror_mode": {
    "name": "ipython",
    "version": 3
   },
   "file_extension": ".py",
   "mimetype": "text/x-python",
   "name": "python",
   "nbconvert_exporter": "python",
   "pygments_lexer": "ipython3",
   "version": "3.7.3"
  }
 },
 "nbformat": 4,
 "nbformat_minor": 2
}
