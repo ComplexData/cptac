{
 "cells": [
  {
   "cell_type": "markdown",
   "metadata": {},
   "source": [
    "## Use Case 3: Comparing Clinical Threshold for Significant Genes"
   ]
  },
  {
   "cell_type": "markdown",
   "metadata": {},
   "source": [
    "## Step 1: Importing Packages and the Data\n",
    "\n",
    "First, load standard imports for playing with dataframes."
   ]
  },
  {
   "cell_type": "code",
   "execution_count": 1,
   "metadata": {},
   "outputs": [],
   "source": [
    "import pandas as pd\n",
    "import numpy as np\n",
    "import matplotlib.pyplot as plt\n",
    "import seaborn as sns\n",
    "from scipy import stats"
   ]
  },
  {
   "cell_type": "markdown",
   "metadata": {},
   "source": [
    "Next, load the CPTAC data we will be playing with."
   ]
  },
  {
   "cell_type": "code",
   "execution_count": 2,
   "metadata": {},
   "outputs": [
    {
     "name": "stdout",
     "output_type": "stream",
     "text": [
      "Loading Endometrial CPTAC data:\n",
      "Loading Dictionary...\n",
      "Loading Clinical Data...\n",
      "Loading Proteomics Data...\n",
      "Loading Transcriptomics Data...\n",
      "Loading CNA Data...\n",
      "Loading Phosphoproteomics Data...\n",
      "Loading Somatic Mutation Data...\n",
      "\n",
      " ******PLEASE READ******\n",
      "WARNING: This data is under a publication embargo until July 1, 2019.\n",
      "CPTAC is a community resource project and data are made available\n",
      "rapidly after generation for community research use. The embargo\n",
      "allows exploring and utilizing the data, but the data may not be in a\n",
      "publication until July 1, 2019. Please see\n",
      "https://proteomics.cancer.gov/data-portal/about/data-use-agreement or\n",
      "enter embargo() to open the webpage for more details.\n"
     ]
    }
   ],
   "source": [
    "import CPTAC.Endometrial as en"
   ]
  },
  {
   "cell_type": "markdown",
   "metadata": {},
   "source": [
    "## Step 2: Getting data\n",
    "\n",
    "Load the clinical dataframe and the dataframe to compare it with, in this case, proteomics"
   ]
  },
  {
   "cell_type": "code",
   "execution_count": 3,
   "metadata": {},
   "outputs": [],
   "source": [
    "clinical = en.get_clinical()\n",
    "proteomics = en.get_proteomics()"
   ]
  },
  {
   "cell_type": "markdown",
   "metadata": {},
   "source": [
    "Columns of the clinical data can be viewed with <code>clinical.columns</code> command. To view all columns without truncation, first use the command <code>pd.set_option('display.max_seq_items’, None)</code>. "
   ]
  },
  {
   "cell_type": "code",
   "execution_count": 4,
   "metadata": {},
   "outputs": [
    {
     "name": "stdout",
     "output_type": "stream",
     "text": [
      "Index(['Proteomics_Participant_ID', 'Case_excluded', 'Proteomics_TMT_batch',\n",
      "       'Proteomics_TMT_plex', 'Proteomics_TMT_channel',\n",
      "       'Proteomics_Parent_Sample_IDs', 'Proteomics_Aliquot_ID',\n",
      "       'Proteomics_Tumor_Normal', 'Proteomics_OCT', 'Country',\n",
      "       ...\n",
      "       'RNAseq_R1_sample_type', 'RNAseq_R1_filename', 'RNAseq_R1_UUID',\n",
      "       'RNAseq_R2_sample_type', 'RNAseq_R2_filename', 'RNAseq_R2_UUID',\n",
      "       'miRNAseq_sample_type', 'miRNAseq_UUID', 'Methylation_available',\n",
      "       'Methylation_quality'],\n",
      "      dtype='object', length=170)\n"
     ]
    }
   ],
   "source": [
    "print(clinical.columns)"
   ]
  },
  {
   "cell_type": "markdown",
   "metadata": {},
   "source": [
    "The trait we will be using for this example is the continuous variable for T cells memory activated"
   ]
  },
  {
   "cell_type": "code",
   "execution_count": 5,
   "metadata": {},
   "outputs": [],
   "source": [
    "trait = 'Pathway_activity_p53'"
   ]
  },
  {
   "cell_type": "markdown",
   "metadata": {},
   "source": [
    "## Step 3: Merge Dataframes\n",
    "\n",
    "Next we will use the <code>en.compare_clinical()</code> function to create a dataframe that appends a column from the clinical dataframe to our chosen dataframe"
   ]
  },
  {
   "cell_type": "code",
   "execution_count": 6,
   "metadata": {},
   "outputs": [
    {
     "name": "stdout",
     "output_type": "stream",
     "text": [
      "idx   Pathway_activity_p53    A1BG     A2M    A2ML1  A4GALT      AAAS    AACS  \\\n",
      "S001                 -0.67 -1.1800 -0.8630 -0.80200  0.2220  0.256000  0.6650   \n",
      "S002                 -0.53 -0.6850 -1.0700 -0.68400  0.9840  0.135000  0.3340   \n",
      "S003                  0.43 -0.5280 -1.3200  0.43500     NaN -0.240000  1.0400   \n",
      "S004                   NaN  2.3500  2.8200 -1.47000     NaN  0.154000  0.0332   \n",
      "S005                  0.15 -1.6700 -1.1900 -0.44300  0.2430 -0.099300  0.7570   \n",
      "S006                 -1.98 -0.3740 -0.0206 -0.53700  0.3110  0.375000  0.0131   \n",
      "S007                  0.56 -1.0800 -0.7080 -0.12600 -0.4260 -0.114000 -0.1110   \n",
      "S008                 -1.05 -1.3200 -0.7080 -0.80800 -0.0709  0.138000  0.6560   \n",
      "S009                 -1.60 -0.4670  0.3700 -0.33900     NaN  0.434000  0.0358   \n",
      "S010                 -1.39 -1.1200 -1.3100  0.91200  0.4180 -0.076800  0.8460   \n",
      "S011                  0.95 -0.7160 -0.8850  2.82000 -0.3430  0.147000  0.4450   \n",
      "S012                  0.47 -0.2320 -0.0910  0.61800  1.6300 -0.250000  1.3300   \n",
      "S013                   NaN  1.2600  1.5500  0.85900  0.6280 -0.524000  1.0500   \n",
      "S014                  1.20 -0.2690  0.0196  1.88000  0.0000  0.173000  0.2370   \n",
      "S015                   NaN -0.2570  0.5140 -0.62000     NaN  0.093600 -0.1410   \n",
      "S016                 -2.19 -0.7820 -0.6970 -1.53000 -1.1300  0.455000 -0.5950   \n",
      "S017                 -1.69 -1.3400 -1.8700 -0.25800     NaN  0.129000  2.5600   \n",
      "S018                  2.14 -0.9240 -0.4450  1.57000 -0.6780  0.173000  0.4360   \n",
      "S019                  1.64  0.1500  0.9870  5.07000  0.3020 -0.169000  0.3980   \n",
      "S020                  1.65  0.1810 -0.2830  0.68900  0.1040 -0.130000 -0.0683   \n",
      "S021                  0.67 -0.5930  0.4140  1.89000     NaN -0.019000  1.3700   \n",
      "S022                  0.43 -0.9580 -0.3420      NaN     NaN -0.025900  0.1830   \n",
      "S023                 -0.44 -0.4540 -0.2420      NaN     NaN  0.258000  0.2190   \n",
      "S024                  1.95 -0.2400  0.5940  3.40000  0.1540  0.093200  0.2830   \n",
      "S025                 -0.57 -0.8310 -0.8110 -0.32000  0.2120 -0.057800  0.1680   \n",
      "S026                  1.12 -0.3270 -0.9530  0.54400 -0.2060 -0.200000  0.4130   \n",
      "S027                 -0.85  0.0499  0.0199 -0.12500  0.4770 -0.252000  0.8380   \n",
      "S028                  0.41  0.7730  0.5460 -0.60300     NaN  0.055500 -0.6390   \n",
      "S029                  1.61  0.5510  0.2030      NaN     NaN -0.493000  0.2110   \n",
      "S030                 -0.42 -0.2130  0.2780  1.43000  0.0224  0.451000  0.8730   \n",
      "...                    ...     ...     ...      ...     ...       ...     ...   \n",
      "S124                   NaN  1.4700  1.0100  0.95400  0.1490  0.167000 -0.7740   \n",
      "S125                   NaN  0.5260 -0.0539  0.54600     NaN -0.102000  0.0273   \n",
      "S126                   NaN  1.6900  1.3600      NaN     NaN  0.047200 -0.2140   \n",
      "S127                   NaN  2.1400  1.1300  0.00896 -0.0781 -0.004360 -0.6580   \n",
      "S128                   NaN  1.4000  1.8200 -0.05030  1.2200  0.156000 -0.8290   \n",
      "S129                   NaN  1.5300  0.2450  0.78500 -0.4910 -0.104000 -0.7910   \n",
      "S130                   NaN  1.4300  1.0400 -0.18400     NaN -0.144000 -0.7970   \n",
      "S131                   NaN  0.6920  1.5600 -0.04860 -0.9520 -0.032100 -0.8340   \n",
      "S132                   NaN  0.9160  0.2470 -0.06220 -0.3430 -0.169000 -0.5000   \n",
      "S133                   NaN  1.0600  0.7650 -0.86900     NaN -0.061300 -0.9970   \n",
      "S134                   NaN  1.4100 -0.1740  0.32800 -0.5010 -0.252000 -0.6720   \n",
      "S135                   NaN  2.1200  2.2100  0.29900     NaN -0.553000 -0.5950   \n",
      "S136                   NaN  0.7790  0.6810 -0.22700  0.0724 -0.174000 -0.2010   \n",
      "S137                   NaN -0.0812  0.5230 -0.07770 -0.0572  0.019500 -0.2350   \n",
      "S138                   NaN  0.5200 -0.5270 -0.16800 -0.3280 -0.182000 -0.9600   \n",
      "S139                   NaN  0.7500  0.6030 -0.10800 -0.2400 -0.131000 -0.7720   \n",
      "S140                   NaN -0.0014  0.6160 -0.64100 -0.2040  0.027600 -1.4100   \n",
      "S141                   NaN  0.2980  0.3950 -1.24000 -0.1780 -0.180000 -0.5910   \n",
      "S142                   NaN  0.1110  0.2100 -0.75100 -0.3350  0.000865 -1.3700   \n",
      "S143                   NaN  0.9280  0.9520 -1.38000 -0.3450 -0.002170 -0.6570   \n",
      "S144                   NaN  0.8990  0.1360 -1.63000 -0.4680 -0.293000 -1.1000   \n",
      "S145                   NaN  1.6000  0.7600  0.68800     NaN  0.644000 -0.0780   \n",
      "S146                   NaN  1.3200  0.9540 -0.62800     NaN  1.020000 -0.3050   \n",
      "S147                   NaN  1.4400  1.7300 -0.22100     NaN  0.275000 -0.2700   \n",
      "S148                   NaN  1.4600  2.0000 -0.39400     NaN  0.544000 -0.4080   \n",
      "S149                   NaN  0.6500  0.2270  1.93000     NaN  0.239000 -0.3760   \n",
      "S150                   NaN  0.4580  0.5200 -0.29100     NaN  0.477000 -0.1510   \n",
      "S151                   NaN  1.1500  1.4600 -0.02290     NaN  0.252000 -0.2380   \n",
      "S152                   NaN  0.5470  1.2700 -0.19700     NaN  0.405000  0.2840   \n",
      "S153                   NaN  0.9400  0.9040 -0.08030     NaN  0.299000 -0.1760   \n",
      "\n",
      "idx     AADAT    AAED1   AAGAB    ...       ZSWIM8   ZSWIM9      ZW10  ZWILCH  \\\n",
      "S001  1.28000 -0.33900  0.4120    ...    -0.087700      NaN  0.022900  0.1090   \n",
      "S002  1.30000  0.13900  1.3300    ...    -0.035600      NaN  0.363000  1.0700   \n",
      "S003 -0.02130 -0.04790  0.4190    ...     0.001120 -0.14500  0.010500 -0.1160   \n",
      "S004  0.51300  0.67400  0.4310    ...    -0.538000 -0.42700  0.092600  1.2800   \n",
      "S005  0.74000 -0.92900  0.2290    ...     0.072500 -0.05520 -0.071400  0.0933   \n",
      "S006 -1.10000      NaN  0.5650    ...    -0.176000      NaN -1.220000 -0.5620   \n",
      "S007  0.89500  1.26000  0.1570    ...     0.455000      NaN  0.397000 -0.9990   \n",
      "S008 -0.28000 -0.12800  0.2170    ...     0.015800 -0.00491  0.180000  0.5130   \n",
      "S009 -0.17500  0.18100  0.1160    ...    -0.675000  0.23900  0.140000  1.0700   \n",
      "S010 -0.12100      NaN -0.3110    ...    -0.002120      NaN -1.190000 -1.2700   \n",
      "S011 -0.05650 -0.83800  0.0490    ...     0.084500 -0.64700  0.175000  0.2120   \n",
      "S012 -1.72000 -0.88900  0.6330    ...     0.065200 -0.23600  0.501000  0.3520   \n",
      "S013      NaN -1.34000  0.0102    ...     0.151000 -0.44600  0.105000  1.3500   \n",
      "S014      NaN  0.65200 -0.2270    ...     0.137000 -0.69700  0.393000  0.6180   \n",
      "S015  0.72800 -0.36500  0.1470    ...    -0.186000  0.43800  0.075400  0.4850   \n",
      "S016 -1.03000 -0.55000  0.1510    ...    -0.050400 -0.27500  0.217000  0.6810   \n",
      "S017  1.03000 -0.39600 -0.0763    ...     0.033000 -0.41900  0.327000  0.1030   \n",
      "S018  0.22700 -0.00248  0.4790    ...    -0.049600      NaN  0.108000 -0.1530   \n",
      "S019      NaN -0.27400  1.0900    ...     0.348000 -0.48400  0.142000  0.2500   \n",
      "S020 -0.37600 -0.08380  0.1600    ...     0.228000      NaN  0.020600 -0.9700   \n",
      "S021  0.02980 -0.10700 -0.1510    ...    -0.325000 -0.31100  0.332000 -0.4270   \n",
      "S022  0.10900 -0.08130  0.4510    ...     0.012600      NaN  0.329000  0.3540   \n",
      "S023 -0.24900 -1.33000  0.2040    ...    -0.158000      NaN  0.667000  1.3000   \n",
      "S024 -0.07890 -0.61100  0.3700    ...    -0.051100 -0.01360  0.214000  0.6830   \n",
      "S025  0.42700 -0.75000  0.1760    ...     0.000388  0.18400  0.086800  0.1440   \n",
      "S026  0.32000  0.11700  0.1430    ...     0.147000      NaN  0.226000 -0.2850   \n",
      "S027 -0.10000 -0.85100  0.3510    ...     0.049100 -0.47900  0.054800  0.9330   \n",
      "S028 -0.39000  0.46700 -0.3660    ...    -0.008350  0.11900 -0.296000 -0.2050   \n",
      "S029  1.06000 -0.28000  0.2070    ...     0.300000      NaN  0.142000 -0.5490   \n",
      "S030  0.90900  0.68300  0.6210    ...     0.160000      NaN  0.247000  0.8470   \n",
      "...       ...      ...     ...    ...          ...      ...       ...     ...   \n",
      "S124 -0.19500  0.31400 -0.4880    ...    -0.065300      NaN -0.343000 -0.2820   \n",
      "S125  0.09420  0.28700 -0.0535    ...    -0.188000  0.30000 -0.273000 -0.4350   \n",
      "S126  0.14200  1.84000 -0.6850    ...    -0.301000      NaN -0.255000 -0.6150   \n",
      "S127  0.46800  0.20100  0.0183    ...    -0.326000  0.87800 -0.213000 -0.2230   \n",
      "S128 -0.54100 -0.79800 -0.6620    ...    -0.271000  0.77800 -0.243000 -1.2600   \n",
      "S129      NaN -0.76200 -0.0353    ...     0.005600  0.80200 -0.554000 -0.9200   \n",
      "S130 -0.00384  1.08000 -0.6400    ...    -0.418000 -0.39000 -0.438000 -0.7450   \n",
      "S131 -0.55400 -0.05310 -0.5670    ...    -0.285000 -0.06960 -0.471000 -0.8440   \n",
      "S132  0.05210  0.87400 -0.5980    ...    -0.287000  0.36400 -0.304000 -0.0876   \n",
      "S133 -0.27700  0.30400 -0.6930    ...    -0.068100  0.23300 -0.390000 -0.5640   \n",
      "S134  0.66400  0.91100 -0.2150    ...     0.015500  0.43100 -0.164000 -0.2760   \n",
      "S135 -0.12600  0.55500  0.5040    ...     0.342000  0.32400 -0.266000 -0.0314   \n",
      "S136      NaN -0.30800  0.5890    ...    -0.110000  0.35600 -0.034500 -0.2130   \n",
      "S137      NaN -0.10500  0.3420    ...     0.328000  0.06560  0.030400 -0.5640   \n",
      "S138  0.14400      NaN -0.8770    ...    -0.212000      NaN -1.430000 -1.0100   \n",
      "S139 -0.00473      NaN -0.5680    ...    -0.093700      NaN -1.430000 -0.8510   \n",
      "S140 -0.40500 -0.56100 -0.3730    ...     0.215000  0.10700 -0.190000 -1.3600   \n",
      "S141 -0.59800  0.40200 -0.3840    ...     0.054700  0.19800 -0.013900 -0.8080   \n",
      "S142 -0.27300  0.10600 -0.7170    ...     0.176000  0.39600 -0.364000 -1.6400   \n",
      "S143 -0.36300  0.08070 -0.2000    ...    -0.135000      NaN  0.092600 -0.1550   \n",
      "S144 -0.71200 -0.26100 -0.4660    ...    -0.009430      NaN -0.349000 -0.5490   \n",
      "S145 -0.48700  1.39000 -0.4520    ...     0.001340  0.12700 -0.416000 -0.1810   \n",
      "S146 -0.52300  2.18000 -0.1220    ...    -0.264000  0.26200 -0.000846  0.7470   \n",
      "S147 -0.44000  2.12000 -0.2300    ...    -0.002700  0.25800 -0.129000  0.6290   \n",
      "S148 -0.47400  1.77000 -0.1390    ...    -0.161000  0.33800 -0.026700  0.6890   \n",
      "S149 -0.11200  1.54000 -0.5660    ...    -0.204000  0.02970 -0.151000  0.0552   \n",
      "S150 -0.18700  1.64000 -0.2680    ...    -0.078200  0.22500  0.141000  0.7260   \n",
      "S151 -0.59600  1.77000 -0.1130    ...     0.122000  0.25500 -0.380000 -0.2970   \n",
      "S152 -0.14100  1.69000 -0.1700    ...     0.060700 -0.18200 -0.126000 -0.0662   \n",
      "S153 -0.26700  1.31000 -0.3890    ...    -0.130000  0.55200  0.023400  0.4250   \n",
      "\n",
      "idx     ZWINT     ZXDC   ZYG11B       ZYX     ZZEF1      ZZZ3  \n",
      "S001      NaN -0.33200 -0.43300 -1.020000 -0.123000 -0.085900  \n",
      "S002  0.73700 -0.56400 -0.00461 -1.130000 -0.075700 -0.473000  \n",
      "S003      NaN  0.15100 -0.07400 -0.540000  0.320000 -0.419000  \n",
      "S004  1.08000  0.06950  0.30300 -0.325000  0.236000  0.443000  \n",
      "S005  0.15600 -0.39800 -0.07520 -0.797000 -0.030100 -0.467000  \n",
      "S006  0.93700 -0.64600  0.20700 -1.850000 -0.176000  0.051300  \n",
      "S007 -0.73000 -0.02290 -0.33100 -1.160000 -0.116000  0.002500  \n",
      "S008  0.54900 -0.68100 -0.28500 -0.564000 -0.087600  0.006980  \n",
      "S009  0.60700  0.48600  0.16900 -0.632000 -0.203000 -0.068500  \n",
      "S010 -1.27000 -0.22200 -0.32000 -0.620000  0.363000 -0.463000  \n",
      "S011 -0.32400 -0.35000 -0.37700  0.388000  0.011000  0.134000  \n",
      "S012  0.08390 -0.42800 -0.21200 -1.340000  0.317000 -0.943000  \n",
      "S013  1.26000  0.32900  0.16700 -0.771000 -0.112000  2.240000  \n",
      "S014  0.41800 -0.20100 -0.06660 -0.808000  0.026100 -0.285000  \n",
      "S015  0.12600  0.77000  0.11000 -0.925000 -0.343000 -0.500000  \n",
      "S016  0.87100  0.23900 -0.25900 -0.874000 -0.560000  0.248000  \n",
      "S017      NaN  0.63800 -0.51400 -1.420000  0.218000 -0.061100  \n",
      "S018      NaN  0.10900 -0.33600 -0.822000 -0.033800  0.121000  \n",
      "S019 -0.14200  0.07700 -0.15700 -0.872000 -0.006630 -0.017500  \n",
      "S020      NaN -0.45200  0.17200  0.626000  0.342000 -0.203000  \n",
      "S021 -0.49400 -0.11400 -0.44200 -1.550000 -0.251000  0.193000  \n",
      "S022  0.32200 -0.02850 -0.14200 -0.645000  0.245000  0.044700  \n",
      "S023  0.44100  0.13000 -0.06590 -0.923000 -0.163000  0.112000  \n",
      "S024  0.43300 -0.20800 -0.34700 -0.911000  0.069200 -0.232000  \n",
      "S025 -0.13700 -0.41800 -0.18300 -0.769000 -0.256000 -0.372000  \n",
      "S026      NaN  0.11100  0.08500  0.676000 -0.004570 -0.022900  \n",
      "S027  0.00967 -1.14000 -0.54100 -0.838000  0.023800 -0.060200  \n",
      "S028 -0.07650  0.22800  0.23700  1.050000  0.018500  0.587000  \n",
      "S029      NaN -0.39000 -0.09720  0.001080  0.200000 -0.194000  \n",
      "S030  0.51600 -0.41200 -0.08090 -0.221000 -0.004300  1.560000  \n",
      "...       ...      ...      ...       ...       ...       ...  \n",
      "S124      NaN  0.36300  0.23900  1.500000 -0.177000  0.209000  \n",
      "S125      NaN -0.29000  0.01840  1.670000 -0.280000  0.203000  \n",
      "S126 -0.34900 -0.08570  0.24800  0.407000  0.185000  0.229000  \n",
      "S127 -0.15600 -1.03000  0.09500  0.608000 -0.104000  0.139000  \n",
      "S128 -0.08230  1.02000  0.16600  0.876000 -0.068800  0.390000  \n",
      "S129 -1.18000  0.42000  0.34100  1.730000 -0.151000  0.224000  \n",
      "S130 -0.29600  0.40000  0.11400  0.649000 -0.231000  1.000000  \n",
      "S131 -0.57100  0.27500  0.09570  1.300000 -0.060400  0.162000  \n",
      "S132 -0.74600  0.32600  0.25000  1.580000  0.110000  0.583000  \n",
      "S133 -0.33200  0.00086  0.14800  1.040000  0.025400  0.625000  \n",
      "S134  0.18600  0.47100  0.44500  2.090000  0.216000  0.165000  \n",
      "S135 -1.05000  0.12600  0.45600  1.770000  0.120000  0.210000  \n",
      "S136 -0.27900  0.22200 -0.10400  0.336000 -0.000242 -0.002880  \n",
      "S137 -1.17000 -0.13500 -0.25500  0.653000  0.210000 -0.173000  \n",
      "S138 -1.41000  0.40800  0.02600  0.858000 -0.117000  0.131000  \n",
      "S139 -1.05000  0.13100  0.02870  0.365000 -0.033900  0.254000  \n",
      "S140 -1.10000 -0.19700 -0.30700  0.682000  0.098400 -0.020200  \n",
      "S141 -0.32400  0.16300 -0.14500  0.855000  0.116000 -0.000114  \n",
      "S142 -1.48000  0.45300 -0.16800  0.411000 -0.176000  0.218000  \n",
      "S143  0.15100 -0.00177  0.05320  0.850000  0.044400  0.001660  \n",
      "S144 -0.46800 -0.15400  0.10800  1.730000  0.167000 -0.059000  \n",
      "S145  0.22100  0.55400 -0.41700  0.955000  0.033400 -0.013400  \n",
      "S146  0.85900  1.49000 -0.62300 -0.000941 -0.164000 -0.004900  \n",
      "S147  0.67300  1.90000 -0.42800  0.191000  0.049300 -0.104000  \n",
      "S148  1.03000  1.00000 -0.38600  0.035800 -0.142000 -0.083200  \n",
      "S149  0.10500  1.33000 -0.67400 -0.840000 -0.269000  0.103000  \n",
      "S150  0.86800  0.66200 -0.57000 -0.399000 -0.095900 -0.063500  \n",
      "S151  0.04620  0.04500 -0.31900  0.835000  0.169000 -0.008090  \n",
      "S152 -0.01030  1.05000 -0.35600  0.416000  0.273000 -0.658000  \n",
      "S153  0.67700  0.58700 -0.47700 -0.422000 -0.093100  0.055700  \n",
      "\n",
      "[153 rows x 11000 columns]\n"
     ]
    }
   ],
   "source": [
    "traitProt = en.compare_clinical(proteomics, trait)\n",
    "traitProt.head()"
   ]
  },
  {
   "cell_type": "markdown",
   "metadata": {},
   "source": [
    "## Step 4: Statistical Analysis\n",
    "\n",
    "The next step is more statistically intensive. We are looking for genes that have a significant correlation with the chosen clinical attribute. First we will establish a lower p-value threshold due to such a large sample size of genes by dividing .05 (the usual p-value) by the number of genes (or columns).\n",
    "\n",
    "Next we will loop through the genes, testing each with a SpearmanR correlation test, only listing those that fall within our parameters of significant"
   ]
  },
  {
   "cell_type": "code",
   "execution_count": 7,
   "metadata": {},
   "outputs": [
    {
     "name": "stdout",
     "output_type": "stream",
     "text": [
      "Threshold: 4.5454545454545455e-06\n",
      "SpearmanrResult(correlation=0.5163908610313054, pvalue=2.2193065109225645e-07)\n",
      "SpearmanrResult(correlation=-0.5196493254270892, pvalue=6.803872988798687e-08)\n",
      "SpearmanrResult(correlation=-0.512437880703719, pvalue=1.1047601933785191e-07)\n",
      "SpearmanrResult(correlation=-0.5310749098407427, pvalue=3.0836308255695726e-08)\n",
      "SpearmanrResult(correlation=-0.5219427182769559, pvalue=5.8180881366640145e-08)\n",
      "SpearmanrResult(correlation=-0.5181594847541582, pvalue=7.527435145468716e-08)\n",
      "SpearmanrResult(correlation=-0.5110854794128336, pvalue=3.092274373023385e-07)\n",
      "SpearmanrResult(correlation=0.5825587253690367, pvalue=4.414786927952596e-07)\n",
      "SpearmanrResult(correlation=-0.517066035119974, pvalue=8.104508894418577e-08)\n",
      "SpearmanrResult(correlation=0.5586352677701082, pvalue=4.032275930670269e-09)\n",
      "SpearmanrResult(correlation=-0.5160791343030166, pvalue=8.661316256665918e-08)\n",
      "SpearmanrResult(correlation=0.5299340874050138, pvalue=2.1737088795782603e-07)\n",
      "SpearmanrResult(correlation=0.5379271732275064, pvalue=1.891310302346198e-08)\n",
      "SpearmanrResult(correlation=0.6010069477358699, pvalue=7.508563325848414e-09)\n",
      "SpearmanrResult(correlation=-0.5447988412541642, pvalue=1.1456637350162332e-08)\n",
      "SpearmanrResult(correlation=-0.5062573058855161, pvalue=1.6590385308543968e-07)\n",
      "SpearmanrResult(correlation=0.5096414302506961, pvalue=1.3292280805624298e-07)\n",
      "SpearmanrResult(correlation=-0.5107403833129314, pvalue=1.2362789468652927e-07)\n",
      "SpearmanrResult(correlation=-0.5020175334871678, pvalue=2.1826902074946783e-07)\n",
      "SpearmanrResult(correlation=0.6361851574579269, pvalue=4.271781151978978e-12)\n",
      "SpearmanrResult(correlation=0.522990939670006, pvalue=5.414316560215312e-08)\n",
      "SpearmanrResult(correlation=0.5073335132335955, pvalue=1.5465288074526698e-07)\n",
      "SpearmanrResult(correlation=0.6240835430802478, pvalue=1.4106742955069561e-11)\n",
      "SpearmanrResult(correlation=-0.5096642114749507, pvalue=1.3272354996771987e-07)\n",
      "SpearmanrResult(correlation=0.5178569556328547, pvalue=7.683054514736193e-08)\n",
      "SpearmanrResult(correlation=-0.5102452206084487, pvalue=1.2773670306197172e-07)\n",
      "SpearmanrResult(correlation=-0.5112268327224907, pvalue=1.1971406366335684e-07)\n",
      "SpearmanrResult(correlation=-0.5189835769175943, pvalue=7.118609672653786e-08)\n",
      "SpearmanrResult(correlation=-0.51888753601404, pvalue=7.165142518945307e-08)\n",
      "SpearmanrResult(correlation=-0.5225200007407292, pvalue=5.5923007017619684e-08)\n",
      "SpearmanrResult(correlation=-0.5343629265828986, pvalue=2.442196786866712e-08)\n",
      "SpearmanrResult(correlation=-0.5534102563071119, pvalue=6.014998613523979e-09)\n",
      "SpearmanrResult(correlation=-0.5275034475825247, pvalue=3.961508192134114e-08)\n",
      "SpearmanrResult(correlation=-0.5797482355899218, pvalue=7.450927926349215e-10)\n",
      "SpearmanrResult(correlation=0.5077779685660551, pvalue=1.5022147884209765e-07)\n",
      "SpearmanrResult(correlation=0.576290049246763, pvalue=9.906093922514056e-10)\n",
      "SpearmanrResult(correlation=-0.5519765947721943, pvalue=6.7045821671508136e-09)\n",
      "SpearmanrResult(correlation=-0.5868000268883946, pvalue=4.125356501262605e-10)\n",
      "SpearmanrResult(correlation=-0.5292468678985776, pvalue=3.506770622820531e-08)\n",
      "SpearmanrResult(correlation=-0.5186354319244421, pvalue=7.288672232790197e-08)\n",
      "SpearmanrResult(correlation=-0.6204238049007352, pvalue=2.0042348586774094e-11)\n",
      "SpearmanrResult(correlation=-0.6227497344090159, pvalue=1.604147088545023e-11)\n",
      "SpearmanrResult(correlation=-0.5055416933106089, pvalue=1.7381134920193402e-07)\n",
      "SpearmanrResult(correlation=-0.5029939285254248, pvalue=2.049738877692401e-07)\n",
      "SpearmanrResult(correlation=0.5268072123725491, pvalue=4.1583805089065896e-08)\n",
      "SpearmanrResult(correlation=0.5125922275498609, pvalue=2.0539171665668063e-07)\n",
      "SpearmanrResult(correlation=0.6769905933929008, pvalue=5.010487512043082e-14)\n",
      "SpearmanrResult(correlation=0.5522736981065615, pvalue=6.555740362482889e-09)\n",
      "SpearmanrResult(correlation=-0.5452222972150036, pvalue=1.1104040487451354e-08)\n",
      "SpearmanrResult(correlation=-0.5106441061370006, pvalue=1.244168121499561e-07)\n",
      "SpearmanrResult(correlation=-0.5750001754876147, pvalue=1.100706121783115e-09)\n",
      "SpearmanrResult(correlation=0.5129486536541684, pvalue=1.067868006290746e-07)\n",
      "SpearmanrResult(correlation=-0.5867539243879396, pvalue=4.1415226705421865e-10)\n",
      "SpearmanrResult(correlation=0.5015153427115042, pvalue=2.2542235283937624e-07)\n",
      "SpearmanrResult(correlation=-0.5249192458761888, pvalue=4.740285210111372e-08)\n",
      "SpearmanrResult(correlation=0.5219275920440661, pvalue=4.18964997407233e-07)\n",
      "SpearmanrResult(correlation=0.530325990349033, pvalue=3.2507316628227717e-08)\n",
      "SpearmanrResult(correlation=-0.529507284780555, pvalue=3.4432774976612195e-08)\n",
      "SpearmanrResult(correlation=-0.5176609753287782, pvalue=7.785496116022815e-08)\n",
      "59\n",
      "['ANXA9', 'CCNA2', 'CCNB1', 'CENPF', 'CHEK1', 'CHERP', 'CKS1B', 'CLCA4', 'DCK', 'DLG5', 'DPH2', 'ERICH3', 'FAS', 'FGFBP1', 'GMPS', 'GPATCH4', 'INPP4B', 'KIF2C', 'KIF4A', 'KRT13', 'KRT16', 'KRT5', 'KRT6A', 'LIG1', 'MAPRE3', 'MCM2', 'MCM3', 'MCM4', 'MCM5', 'MCM7', 'MDC1', 'PARP1', 'PARP2', 'PCNA', 'PHLDA3', 'PPL', 'RAD1', 'RANGAP1', 'RFC2', 'RFC3', 'RFC4', 'RFC5', 'RIF1', 'RIOX2', 'SCEL', 'SDCBP2', 'SERPINB5', 'SPATA18', 'SUPT6H', 'TCEA1', 'TOPBP1', 'TPPP3', 'TPX2', 'TRAPPC13', 'TRIP13', 'TSGA10', 'TTC9', 'USP28', 'WDHD1']\n"
     ]
    }
   ],
   "source": [
    "threshold = .05 / len(traitProt.columns)\n",
    "tscutoff = 0.5\n",
    "print(\"Threshold:\", threshold)\n",
    "significantTests = []\n",
    "significantGenes = []\n",
    "for num in range(1,len(traitProt.columns)):\n",
    "    gene = traitProt.columns[num]\n",
    "    oneGene = traitProt[[trait, gene]]\n",
    "    oneGene = oneGene.dropna(axis=0)\n",
    "    spearmanrTest = stats.spearmanr(oneGene[trait], oneGene[gene])\n",
    "    if (abs(spearmanrTest[0]) >= tscutoff) and (spearmanrTest[0] < 1) and (spearmanrTest[1] <= threshold) and (spearmanrTest[1] > 0):\n",
    "        print(spearmanrTest)\n",
    "        significantTests.append(spearmanrTest)\n",
    "        significantGenes.append(gene)\n",
    "print(len(significantGenes))\n",
    "print(significantGenes)"
   ]
  }
 ],
 "metadata": {
  "kernelspec": {
   "display_name": "Python 3",
   "language": "python",
   "name": "python3"
  },
  "language_info": {
   "codemirror_mode": {
    "name": "ipython",
    "version": 3
   },
   "file_extension": ".py",
   "mimetype": "text/x-python",
   "name": "python",
   "nbconvert_exporter": "python",
   "pygments_lexer": "ipython3",
   "version": "3.7.2"
  }
 },
 "nbformat": 4,
 "nbformat_minor": 2
}
