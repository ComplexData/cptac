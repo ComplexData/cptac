{
 "cells": [
  {
   "cell_type": "code",
   "execution_count": 1,
   "metadata": {},
   "outputs": [],
   "source": [
    "\"\"\"These are the tools we will use to play with the data\"\"\"\n",
    "import pandas as pd\n",
    "import numpy as np\n",
    "import matplotlib.pyplot as plt\n",
    "import seaborn as sns"
   ]
  },
  {
   "cell_type": "code",
   "execution_count": 2,
   "metadata": {},
   "outputs": [
    {
     "name": "stdout",
     "output_type": "stream",
     "text": [
      "Loading Clinical Data...\n",
      "Loading Proteomics Data...\n",
      "Loading Transcriptome Data...\n",
      "Loading CNA Data...\n",
      "Loading Phosphoproteomics Data...\n"
     ]
    }
   ],
   "source": [
    "\"\"\"This is the data we will be playing with\"\"\"\n",
    "import CPTAC"
   ]
  },
  {
   "cell_type": "code",
   "execution_count": 3,
   "metadata": {},
   "outputs": [
    {
     "ename": "AttributeError",
     "evalue": "module 'CPTAC' has no attribute 'get_clinical'",
     "output_type": "error",
     "traceback": [
      "\u001b[0;31m---------------------------------------------------------------------------\u001b[0m",
      "\u001b[0;31mAttributeError\u001b[0m                            Traceback (most recent call last)",
      "\u001b[0;32m<ipython-input-3-2cf38804abea>\u001b[0m in \u001b[0;36m<module>\u001b[0;34m()\u001b[0m\n\u001b[1;32m      1\u001b[0m \u001b[0;34m\"\"\"Use case 3: BMI above and below 25\"\"\"\u001b[0m\u001b[0;34m\u001b[0m\u001b[0m\n\u001b[1;32m      2\u001b[0m \u001b[0;34m\"\"\"The first step is to load the clinical dataframe and the dataframe to compare it with\"\"\"\u001b[0m\u001b[0;34m\u001b[0m\u001b[0m\n\u001b[0;32m----> 3\u001b[0;31m \u001b[0mclinical\u001b[0m \u001b[0;34m=\u001b[0m \u001b[0mCPTAC\u001b[0m\u001b[0;34m.\u001b[0m\u001b[0mget_clinical\u001b[0m\u001b[0;34m(\u001b[0m\u001b[0;34m)\u001b[0m\u001b[0;34m\u001b[0m\u001b[0m\n\u001b[0m\u001b[1;32m      4\u001b[0m \u001b[0mcna\u001b[0m \u001b[0;34m=\u001b[0m \u001b[0mCPTAC\u001b[0m\u001b[0;34m.\u001b[0m\u001b[0mget_CNA\u001b[0m\u001b[0;34m(\u001b[0m\u001b[0;34m)\u001b[0m \u001b[0;31m#TODO: this will eventually be proteomics once we figure out how to meld indices\u001b[0m\u001b[0;34m\u001b[0m\u001b[0m\n\u001b[1;32m      5\u001b[0m \u001b[0;34m\u001b[0m\u001b[0m\n",
      "\u001b[0;31mAttributeError\u001b[0m: module 'CPTAC' has no attribute 'get_clinical'"
     ]
    }
   ],
   "source": [
    "\"\"\"Use case 3: BMI above and below 25\"\"\"\n",
    "\"\"\"The first step is to load the clinical dataframe and the dataframe to compare it with\"\"\"\n",
    "clinical = CPTAC.get_clinical()\n",
    "cna = CPTAC.get_CNA() #TODO: this will eventually be proteomics once we figure out how to meld indices\n",
    "\n",
    "\"\"\"Next we will use the compare_clinical() function to create a dataframe that appends a column from the clinical dataframe to our chosen dataframe\"\"\"\n",
    "bmiCNA = CPTAC.compare_clinical(clinical, cna, 'BMI')\n",
    "print(bmiCNA)"
   ]
  },
  {
   "cell_type": "code",
   "execution_count": null,
   "metadata": {},
   "outputs": [],
   "source": [
    "\"\"\"Now we can split the bmiCNA dataframe into two dataframes based on whether the patient has a BMI (or whatever variable was specified in the previous step) above or below 25.\n",
    "This is done by using the dataframe logic to create an array of boolean values, which we can then use to select the respective dataframes\"\"\"\n",
    "greaterBool = bmiCNA['BMI'] >= 25\n",
    "lessBool = bmiCNA['BMI'] < 25\n",
    "\n",
    "largerThan25 = bmiCNA[greaterBool]\n",
    "smallerThan25 = bmiCNA[lessBool]\n",
    "print(largerThan25)\n",
    "print(smallerThan25)"
   ]
  },
  {
   "cell_type": "code",
   "execution_count": null,
   "metadata": {},
   "outputs": [],
   "source": [
    "\"\"\"We can now apply the mean() function to these two dataframes to produce an array of mean values for each column in our dataframe (e.g. each gene)\"\"\"\n",
    "largerMean = largerThan25.mean()\n",
    "smallerMean = smallerThan25.mean()\n",
    "print(largerMean)\n",
    "print(smallerMean)"
   ]
  },
  {
   "cell_type": "code",
   "execution_count": null,
   "metadata": {},
   "outputs": [],
   "source": [
    "\"\"\"Now we subtract one dataframe from the other and take the absolute value\"\"\"\n",
    "difference = abs(largerMean - smallerMean)\n",
    "\n",
    "\"\"\"We should get ride of the BMI value, as a mean difference for the BMI has no meaning here (this can be done in previous steps with both dataframes if you prefer)\"\"\"\n",
    "difference = difference[1:]\n",
    "print(difference)"
   ]
  },
  {
   "cell_type": "code",
   "execution_count": null,
   "metadata": {},
   "outputs": [],
   "source": [
    "\"\"\"The final step is to create a histogram of our mean difference values\"\"\"\n",
    "#TODO do this through matplotlib, seaborn?"
   ]
  }
 ],
 "metadata": {
  "kernelspec": {
   "display_name": "Python 3",
   "language": "python",
   "name": "python3"
  },
  "language_info": {
   "codemirror_mode": {
    "name": "ipython",
    "version": 3
   },
   "file_extension": ".py",
   "mimetype": "text/x-python",
   "name": "python",
   "nbconvert_exporter": "python",
   "pygments_lexer": "ipython3",
   "version": "3.6.6"
  }
 },
 "nbformat": 4,
 "nbformat_minor": 2
}
