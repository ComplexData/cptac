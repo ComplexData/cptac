{
 "cells": [
  {
   "cell_type": "markdown",
   "metadata": {},
   "source": [
    "# Use Case 1: Comparing Omics Data"
   ]
  },
  {
   "cell_type": "markdown",
   "metadata": {},
   "source": [
    "## Step 1: Importing packages and setting up your notebook.\n",
    "\n",
    "This use case will guide you through basic features of our package, including importing the data, interacting with the dataframes, and producing a basic scatterplot comparing proteomics and transcriptomics for a given gene. We will begin by importing standard data analysis libraries."
   ]
  },
  {
   "cell_type": "code",
   "execution_count": 20,
   "metadata": {},
   "outputs": [],
   "source": [
    "import pandas as pd\n",
    "import numpy as np\n",
    "import matplotlib.pyplot as plt\n",
    "import seaborn as sns"
   ]
  },
  {
   "cell_type": "markdown",
   "metadata": {},
   "source": [
    "Next, we will import the CPTAC package. This includes both data on endometrial cancer patients and functions that will allow the user to access and perform basic operations on the data."
   ]
  },
  {
   "cell_type": "code",
   "execution_count": 21,
   "metadata": {
    "scrolled": true
   },
   "outputs": [],
   "source": [
    "import CPTAC.Endometrial as en"
   ]
  },
  {
   "cell_type": "markdown",
   "metadata": {},
   "source": [
    "## Step 2: Getting data \n",
    "\n",
    "Now that the package is imported, we can begin to extract the data we need. In this case, we need the proteomics and transcriptomics data for the endometrial cancer patients. For a full list of available data and functions, enter <big><code><font color=blue>en.help()</font></code></big>. This will bring you to the documentation on our website."
   ]
  },
  {
   "cell_type": "code",
   "execution_count": 22,
   "metadata": {},
   "outputs": [],
   "source": [
    "proteomics = en.get_proteomics()\n",
    "transcriptomics = en.get_transcriptomics()"
   ]
  },
  {
   "cell_type": "markdown",
   "metadata": {},
   "source": [
    "## Step 3: Merging dataframes\n",
    "\n",
    "We use the <big><code><font color=blue>en.compare_gene()</font></code></big> function to join two data frames on a common gene. All entries for that gene that do not exist simultaneously in both dataframes will be discarded."
   ]
  },
  {
   "cell_type": "code",
   "execution_count": 25,
   "metadata": {},
   "outputs": [
    {
     "data": {
      "text/html": [
       "<div>\n",
       "<style scoped>\n",
       "    .dataframe tbody tr th:only-of-type {\n",
       "        vertical-align: middle;\n",
       "    }\n",
       "\n",
       "    .dataframe tbody tr th {\n",
       "        vertical-align: top;\n",
       "    }\n",
       "\n",
       "    .dataframe thead th {\n",
       "        text-align: right;\n",
       "    }\n",
       "</style>\n",
       "<table border=\"1\" class=\"dataframe\">\n",
       "  <thead>\n",
       "    <tr style=\"text-align: right;\">\n",
       "      <th></th>\n",
       "      <th>proteomics</th>\n",
       "      <th>transcriptomics_linear</th>\n",
       "    </tr>\n",
       "  </thead>\n",
       "  <tbody>\n",
       "    <tr>\n",
       "      <th>S001</th>\n",
       "      <td>-1.180</td>\n",
       "      <td>4.02</td>\n",
       "    </tr>\n",
       "    <tr>\n",
       "      <th>S002</th>\n",
       "      <td>-0.685</td>\n",
       "      <td>4.81</td>\n",
       "    </tr>\n",
       "    <tr>\n",
       "      <th>S003</th>\n",
       "      <td>-0.528</td>\n",
       "      <td>6.24</td>\n",
       "    </tr>\n",
       "    <tr>\n",
       "      <th>S005</th>\n",
       "      <td>-1.670</td>\n",
       "      <td>5.31</td>\n",
       "    </tr>\n",
       "    <tr>\n",
       "      <th>S006</th>\n",
       "      <td>-0.374</td>\n",
       "      <td>9.84</td>\n",
       "    </tr>\n",
       "  </tbody>\n",
       "</table>\n",
       "</div>"
      ],
      "text/plain": [
       "      proteomics  transcriptomics_linear\n",
       "S001      -1.180                    4.02\n",
       "S002      -0.685                    4.81\n",
       "S003      -0.528                    6.24\n",
       "S005      -1.670                    5.31\n",
       "S006      -0.374                    9.84"
      ]
     },
     "execution_count": 25,
     "metadata": {},
     "output_type": "execute_result"
    }
   ],
   "source": [
    "A1BG_cross = en.compare_gene(proteomics, transcriptomics, 'A1BG')\n",
    "A1BG_cross.head()"
   ]
  },
  {
   "cell_type": "markdown",
   "metadata": {},
   "source": [
    "## Step 4: Plot data\n",
    "\n",
    "Finally, we will plot the transcriptomics data against the proteomics data. We use the Seaborn library for our tutorials, but you can get similar results using matplotlib.pyplot. The first plot we will make (for the A1BG gene) has a positive correlation between the proteomics and transcriptomics data."
   ]
  },
  {
   "cell_type": "code",
   "execution_count": 28,
   "metadata": {
    "scrolled": false
   },
   "outputs": [
    {
     "data": {
      "image/png": "[encoded data removed]",
      "text/plain": [
       "<Figure size 432x288 with 1 Axes>"
      ]
     },
     "metadata": {},
     "output_type": "display_data"
    }
   ],
   "source": [
    "sns.set(style=\"darkgrid\")\n",
    "plot = sns.regplot(x=\"proteomics\", y=\"transcriptomics_linear\", \n",
    "                   data=A1BG_cross)\n",
    "plot.set(xlabel='Proteomics', ylabel='Transcriptomics', \n",
    "         title='Proteomics vs. Transcriptomics for the A1BG gene')\n",
    "plt.show()"
   ]
  },
  {
   "cell_type": "markdown",
   "metadata": {},
   "source": [
    "## Step 5: Plot more data\n",
    "\n",
    "We can perform this process for many other genes to find different correlations. The RPL11 gene is an example of slightly negative to no correlation between the proteomics and transcriptomics data."
   ]
  },
  {
   "cell_type": "code",
   "execution_count": null,
   "metadata": {},
   "outputs": [],
   "source": [
    "gene = 'RPL11'\n",
    "gene_cross = en.compare_gene(proteomics, transcriptomics, gene)\n",
    "plot = sns.regplot(x=gene_cross.columns[0], y=gene_cross.columns[1], data=gene_cross, color=\"green\")\n",
    "plot.set(xlabel='Proteomics', ylabel='Transcriptomics', title='Proteomics vs. Transcriptomics for the ' + gene + ' gene')\n",
    "plt.show()"
   ]
  },
  {
   "cell_type": "markdown",
   "metadata": {},
   "source": [
    "## Step 6: Repeat with Ovarian dataset\n",
    "\n",
    "Below, we provide a demonstration of how to go through this same process for the Ovarian dataset."
   ]
  },
  {
   "cell_type": "code",
   "execution_count": null,
   "metadata": {},
   "outputs": [],
   "source": [
    "import CPTAC.Ovarian as ov\n",
    "\n",
    "proteomics = ov.get_proteomics()\n",
    "transcriptomics = ov.get_transcriptomics()\n",
    "\n",
    "cross = ov.compare_gene(proteomics, transcriptomics, 'PTEN')\n",
    "\n",
    "sns.set(style=\"darkgrid\")\n",
    "plot = sns.regplot(x=\"proteomics\", y=\"transcriptomics\", data=cross)\n",
    "plot.set(xlabel='Proteomics', ylabel='Transcriptomics', title='Proteomics vs. Transcriptomics for the PTEN gene')\n",
    "plt.show()"
   ]
  }
 ],
 "metadata": {
  "kernelspec": {
   "display_name": "Python 3",
   "language": "python",
   "name": "python3"
  },
  "language_info": {
   "codemirror_mode": {
    "name": "ipython",
    "version": 3
   },
   "file_extension": ".py",
   "mimetype": "text/x-python",
   "name": "python",
   "nbconvert_exporter": "python",
   "pygments_lexer": "ipython3",
   "version": "3.7.1"
  }
 },
 "nbformat": 4,
 "nbformat_minor": 2
}
