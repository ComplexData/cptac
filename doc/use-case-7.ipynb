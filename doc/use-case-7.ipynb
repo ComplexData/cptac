{
 "cells": [
  {
   "cell_type": "markdown",
   "metadata": {},
   "source": [
    "# The cptac.sync() function\n",
    "\n",
    "The cptac package stores the data files for each dataset on a remote server. Users can download data files for specific versions of their desired datasets via the <code>cptac.sync</code> function. This tutorial will explain how to use this function."
   ]
  },
  {
   "cell_type": "markdown",
   "metadata": {},
   "source": [
    "# Fresh data install\n",
    "\n",
    "When a user first installs cptac, they will have no data files. To install the latest version of the data files for a particular dataset, simply call <code>cptac.sync</code> function, passing the name of your desired dataset for the <code>dataset</code> parameter:"
   ]
  },
  {
   "cell_type": "code",
   "execution_count": 1,
   "metadata": {},
   "outputs": [
    {
     "name": "stdout",
     "output_type": "stream",
     "text": [
      "\u001b[Knloading transcriptomics_linear.cct.gz.....\r"
     ]
    },
    {
     "data": {
      "text/plain": [
       "True"
      ]
     },
     "execution_count": 1,
     "metadata": {},
     "output_type": "execute_result"
    }
   ],
   "source": [
    "import cptac\n",
    "cptac.sync(dataset=\"endometrial\")"
   ]
  }
 ],
 "metadata": {
  "kernelspec": {
   "display_name": "Python 3",
   "language": "python",
   "name": "python3"
  },
  "language_info": {
   "codemirror_mode": {
    "name": "ipython",
    "version": 3
   },
   "file_extension": ".py",
   "mimetype": "text/x-python",
   "name": "python",
   "nbconvert_exporter": "python",
   "pygments_lexer": "ipython3",
   "version": "3.7.3"
  }
 },
 "nbformat": 4,
 "nbformat_minor": 2
}
