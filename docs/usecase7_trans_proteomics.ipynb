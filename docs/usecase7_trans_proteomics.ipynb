{
 "cells": [
  {
   "cell_type": "markdown",
   "metadata": {},
   "source": [
    "# Use Case for ARID1A Downstream Effects"
   ]
  },
  {
   "cell_type": "markdown",
   "metadata": {},
   "source": [
    "As we know, a mutation in a gene often causes significant funcional changes to the protein that it produces. While we know that that specific protein is significantly changed, however, a complete analysis of the importance of the gene's mutation requires that we look at other proteins that may have been affected as well. In this use case, we will look at how a mutation in ARID1A affects interacting downstream proteins."
   ]
  },
  {
   "cell_type": "markdown",
   "metadata": {},
   "source": [
    "# Step 1: Import Libraries"
   ]
  },
  {
   "cell_type": "markdown",
   "metadata": {},
   "source": [
    "Here we will import standard python libraries used to analyze and visualize data as pandas dataframes, as well as our CPTAC data."
   ]
  },
  {
   "cell_type": "code",
   "execution_count": 1,
   "metadata": {},
   "outputs": [
    {
     "name": "stderr",
     "output_type": "stream",
     "text": [
      "/anaconda3/lib/python3.7/site-packages/requests/__init__.py:91: RequestsDependencyWarning: urllib3 (1.25.3) or chardet (3.0.4) doesn't match a supported version!\n",
      "  RequestsDependencyWarning)\n"
     ]
    },
    {
     "name": "stdout",
     "output_type": "stream",
     "text": [
      "                                    \r"
     ]
    }
   ],
   "source": [
    "import pandas as pd\n",
    "import numpy as np\n",
    "import scipy.stats\n",
    "import matplotlib.pyplot as plt\n",
    "import seaborn as sns\n",
    "\n",
    "import cptac\n",
    "import cptac.utils as al\n",
    "\n",
    "en = cptac.Endometrial()\n",
    "co = cptac.Colon()\n",
    "\n",
    "gene = \"ARID1A\"\n",
    "\n",
    "omics = \"proteomics\"\n",
    "#omics = \"transcriptomics\"\n",
    "#omics = \"phosphoproteomics\"\n",
    "#omics = \"acetylproteomics\""
   ]
  },
  {
   "cell_type": "markdown",
   "metadata": {},
   "source": [
    "# Step 2: Get Interacting Proteins"
   ]
  },
  {
   "cell_type": "markdown",
   "metadata": {},
   "source": [
    "Now we will get a list of the proteins that are know to interact with ARID1A. We start with these because they have a high probability of being affected by a mutation because of their close contact. In this case we use the bioplex method"
   ]
  },
  {
   "cell_type": "code",
   "execution_count": 2,
   "metadata": {},
   "outputs": [
    {
     "name": "stdout",
     "output_type": "stream",
     "text": [
      "Interacting Proteins:\n",
      "DPF3\n",
      "SS18\n",
      "SMARCE1\n",
      "BCL7C\n",
      "DPF2\n",
      "BCL7A\n",
      "SMARCC2\n",
      "SMARCD1\n"
     ]
    }
   ],
   "source": [
    "interacting_proteins = al.get_interacting_proteins_bioplex(gene)\n",
    "\n",
    "print(\"Interacting Proteins:\")\n",
    "for interacting_protein in interacting_proteins:\n",
    "    print(interacting_protein)"
   ]
  },
  {
   "cell_type": "markdown",
   "metadata": {},
   "source": [
    "# Step 3: Run T-tests to find significant comparisons"
   ]
  },
  {
   "cell_type": "markdown",
   "metadata": {},
   "source": [
    "Now we create a new dataframe containing protein measurements for the interacting proteins that we are interested in. This is done with endometrial cancer, but as mentioned earlier can be done for other cancers. An example with colon cancer will be shown later."
   ]
  },
  {
   "cell_type": "code",
   "execution_count": 3,
   "metadata": {},
   "outputs": [
    {
     "name": "stderr",
     "output_type": "stream",
     "text": [
      "Warning: In joining the somatic_mutation table, no mutations were found for the following samples, so they were filled with Wildtype_Tumor or Wildtype_Normal: 101 samples for the ARID1A gene (/anaconda3/lib/python3.7/site-packages/ipykernel_launcher.py, line 1)\n"
     ]
    }
   ],
   "source": [
    "protdf = en.join_omics_to_mutations(mutations_genes=[gene], omics_df_name=omics, omics_genes=interacting_proteins)\n",
    "protdf = protdf.loc[protdf['Sample_Status'] == 'Tumor']"
   ]
  },
  {
   "cell_type": "markdown",
   "metadata": {},
   "source": [
    "Next, since in order to make comparisons we will want our \"Label\" column to contain one of two values- either \"Mutated\" or \"Wildtype.\""
   ]
  },
  {
   "cell_type": "code",
   "execution_count": 4,
   "metadata": {},
   "outputs": [],
   "source": [
    "for ind, row in protdf.iterrows():\n",
    "    if row[gene+\"_Mutation_Status\"] != 'Wildtype_Tumor':\n",
    "        protdf.at[ind,'Label'] = 'Mutated'\n",
    "    else:\n",
    "        protdf.at[ind,'Label'] = 'Wildtype'"
   ]
  },
  {
   "cell_type": "code",
   "execution_count": 5,
   "metadata": {},
   "outputs": [
    {
     "data": {
      "text/html": [
       "<div>\n",
       "<style scoped>\n",
       "    .dataframe tbody tr th:only-of-type {\n",
       "        vertical-align: middle;\n",
       "    }\n",
       "\n",
       "    .dataframe tbody tr th {\n",
       "        vertical-align: top;\n",
       "    }\n",
       "\n",
       "    .dataframe thead th {\n",
       "        text-align: right;\n",
       "    }\n",
       "</style>\n",
       "<table border=\"1\" class=\"dataframe\">\n",
       "  <thead>\n",
       "    <tr style=\"text-align: right;\">\n",
       "      <th>Name</th>\n",
       "      <th>DPF3_proteomics</th>\n",
       "      <th>SS18_proteomics</th>\n",
       "      <th>SMARCE1_proteomics</th>\n",
       "      <th>BCL7C_proteomics</th>\n",
       "      <th>DPF2_proteomics</th>\n",
       "      <th>BCL7A_proteomics</th>\n",
       "      <th>SMARCC2_proteomics</th>\n",
       "      <th>SMARCD1_proteomics</th>\n",
       "      <th>ARID1A_Mutation</th>\n",
       "      <th>ARID1A_Location</th>\n",
       "      <th>ARID1A_Mutation_Status</th>\n",
       "      <th>Sample_Status</th>\n",
       "      <th>Label</th>\n",
       "    </tr>\n",
       "    <tr>\n",
       "      <th>Sample_ID</th>\n",
       "      <th></th>\n",
       "      <th></th>\n",
       "      <th></th>\n",
       "      <th></th>\n",
       "      <th></th>\n",
       "      <th></th>\n",
       "      <th></th>\n",
       "      <th></th>\n",
       "      <th></th>\n",
       "      <th></th>\n",
       "      <th></th>\n",
       "      <th></th>\n",
       "      <th></th>\n",
       "    </tr>\n",
       "  </thead>\n",
       "  <tbody>\n",
       "    <tr>\n",
       "      <td>S001</td>\n",
       "      <td>NaN</td>\n",
       "      <td>-0.498</td>\n",
       "      <td>-0.3950</td>\n",
       "      <td>-0.9180</td>\n",
       "      <td>-0.548</td>\n",
       "      <td>0.4100</td>\n",
       "      <td>-0.451</td>\n",
       "      <td>-0.328</td>\n",
       "      <td>[Missense_Mutation]</td>\n",
       "      <td>[p.T2121P]</td>\n",
       "      <td>Single_mutation</td>\n",
       "      <td>Tumor</td>\n",
       "      <td>Mutated</td>\n",
       "    </tr>\n",
       "    <tr>\n",
       "      <td>S002</td>\n",
       "      <td>NaN</td>\n",
       "      <td>-0.162</td>\n",
       "      <td>-0.5560</td>\n",
       "      <td>-0.9410</td>\n",
       "      <td>-0.919</td>\n",
       "      <td>0.8880</td>\n",
       "      <td>-0.627</td>\n",
       "      <td>-0.418</td>\n",
       "      <td>[Nonsense_Mutation, Frame_Shift_Del]</td>\n",
       "      <td>[p.Q403*, p.D1850Tfs*33]</td>\n",
       "      <td>Multiple_mutation</td>\n",
       "      <td>Tumor</td>\n",
       "      <td>Mutated</td>\n",
       "    </tr>\n",
       "    <tr>\n",
       "      <td>S003</td>\n",
       "      <td>NaN</td>\n",
       "      <td>-0.448</td>\n",
       "      <td>-0.5400</td>\n",
       "      <td>-0.3880</td>\n",
       "      <td>-0.555</td>\n",
       "      <td>0.0927</td>\n",
       "      <td>-0.537</td>\n",
       "      <td>-0.648</td>\n",
       "      <td>[Wildtype_Tumor]</td>\n",
       "      <td>[No_mutation]</td>\n",
       "      <td>Wildtype_Tumor</td>\n",
       "      <td>Tumor</td>\n",
       "      <td>Wildtype</td>\n",
       "    </tr>\n",
       "    <tr>\n",
       "      <td>S005</td>\n",
       "      <td>NaN</td>\n",
       "      <td>0.203</td>\n",
       "      <td>0.0968</td>\n",
       "      <td>-0.0328</td>\n",
       "      <td>0.372</td>\n",
       "      <td>0.6880</td>\n",
       "      <td>-0.102</td>\n",
       "      <td>0.186</td>\n",
       "      <td>[Wildtype_Tumor]</td>\n",
       "      <td>[No_mutation]</td>\n",
       "      <td>Wildtype_Tumor</td>\n",
       "      <td>Tumor</td>\n",
       "      <td>Wildtype</td>\n",
       "    </tr>\n",
       "    <tr>\n",
       "      <td>S006</td>\n",
       "      <td>NaN</td>\n",
       "      <td>0.298</td>\n",
       "      <td>0.0897</td>\n",
       "      <td>-1.4000</td>\n",
       "      <td>-0.642</td>\n",
       "      <td>0.3460</td>\n",
       "      <td>-0.432</td>\n",
       "      <td>-0.599</td>\n",
       "      <td>[Wildtype_Tumor]</td>\n",
       "      <td>[No_mutation]</td>\n",
       "      <td>Wildtype_Tumor</td>\n",
       "      <td>Tumor</td>\n",
       "      <td>Wildtype</td>\n",
       "    </tr>\n",
       "  </tbody>\n",
       "</table>\n",
       "</div>"
      ],
      "text/plain": [
       "Name       DPF3_proteomics  SS18_proteomics  SMARCE1_proteomics  \\\n",
       "Sample_ID                                                         \n",
       "S001                   NaN           -0.498             -0.3950   \n",
       "S002                   NaN           -0.162             -0.5560   \n",
       "S003                   NaN           -0.448             -0.5400   \n",
       "S005                   NaN            0.203              0.0968   \n",
       "S006                   NaN            0.298              0.0897   \n",
       "\n",
       "Name       BCL7C_proteomics  DPF2_proteomics  BCL7A_proteomics  \\\n",
       "Sample_ID                                                        \n",
       "S001                -0.9180           -0.548            0.4100   \n",
       "S002                -0.9410           -0.919            0.8880   \n",
       "S003                -0.3880           -0.555            0.0927   \n",
       "S005                -0.0328            0.372            0.6880   \n",
       "S006                -1.4000           -0.642            0.3460   \n",
       "\n",
       "Name       SMARCC2_proteomics  SMARCD1_proteomics  \\\n",
       "Sample_ID                                           \n",
       "S001                   -0.451              -0.328   \n",
       "S002                   -0.627              -0.418   \n",
       "S003                   -0.537              -0.648   \n",
       "S005                   -0.102               0.186   \n",
       "S006                   -0.432              -0.599   \n",
       "\n",
       "Name                            ARID1A_Mutation           ARID1A_Location  \\\n",
       "Sample_ID                                                                   \n",
       "S001                        [Missense_Mutation]                [p.T2121P]   \n",
       "S002       [Nonsense_Mutation, Frame_Shift_Del]  [p.Q403*, p.D1850Tfs*33]   \n",
       "S003                           [Wildtype_Tumor]             [No_mutation]   \n",
       "S005                           [Wildtype_Tumor]             [No_mutation]   \n",
       "S006                           [Wildtype_Tumor]             [No_mutation]   \n",
       "\n",
       "Name      ARID1A_Mutation_Status Sample_Status     Label  \n",
       "Sample_ID                                                 \n",
       "S001             Single_mutation         Tumor   Mutated  \n",
       "S002           Multiple_mutation         Tumor   Mutated  \n",
       "S003              Wildtype_Tumor         Tumor  Wildtype  \n",
       "S005              Wildtype_Tumor         Tumor  Wildtype  \n",
       "S006              Wildtype_Tumor         Tumor  Wildtype  "
      ]
     },
     "execution_count": 5,
     "metadata": {},
     "output_type": "execute_result"
    }
   ],
   "source": [
    "protdf.head()"
   ]
  },
  {
   "cell_type": "markdown",
   "metadata": {},
   "source": [
    "Since we are only interested in interacting protein levels, here we trim down the dataframe and drop unwanted columns."
   ]
  },
  {
   "cell_type": "code",
   "execution_count": 6,
   "metadata": {},
   "outputs": [],
   "source": [
    "protdf = protdf.drop(gene+\"_Mutation\",axis=1)\n",
    "protdf = protdf.drop(gene+\"_Location\",axis=1)\n",
    "protdf = protdf.drop(gene+\"_Mutation_Status\", axis=1)\n",
    "protdf = protdf.drop(\"Sample_Status\",axis=1)"
   ]
  },
  {
   "cell_type": "code",
   "execution_count": 7,
   "metadata": {},
   "outputs": [
    {
     "data": {
      "text/html": [
       "<div>\n",
       "<style scoped>\n",
       "    .dataframe tbody tr th:only-of-type {\n",
       "        vertical-align: middle;\n",
       "    }\n",
       "\n",
       "    .dataframe tbody tr th {\n",
       "        vertical-align: top;\n",
       "    }\n",
       "\n",
       "    .dataframe thead th {\n",
       "        text-align: right;\n",
       "    }\n",
       "</style>\n",
       "<table border=\"1\" class=\"dataframe\">\n",
       "  <thead>\n",
       "    <tr style=\"text-align: right;\">\n",
       "      <th>Name</th>\n",
       "      <th>DPF3_proteomics</th>\n",
       "      <th>SS18_proteomics</th>\n",
       "      <th>SMARCE1_proteomics</th>\n",
       "      <th>BCL7C_proteomics</th>\n",
       "      <th>DPF2_proteomics</th>\n",
       "      <th>BCL7A_proteomics</th>\n",
       "      <th>SMARCC2_proteomics</th>\n",
       "      <th>SMARCD1_proteomics</th>\n",
       "      <th>Label</th>\n",
       "    </tr>\n",
       "    <tr>\n",
       "      <th>Sample_ID</th>\n",
       "      <th></th>\n",
       "      <th></th>\n",
       "      <th></th>\n",
       "      <th></th>\n",
       "      <th></th>\n",
       "      <th></th>\n",
       "      <th></th>\n",
       "      <th></th>\n",
       "      <th></th>\n",
       "    </tr>\n",
       "  </thead>\n",
       "  <tbody>\n",
       "    <tr>\n",
       "      <td>S001</td>\n",
       "      <td>NaN</td>\n",
       "      <td>-0.498</td>\n",
       "      <td>-0.3950</td>\n",
       "      <td>-0.9180</td>\n",
       "      <td>-0.548</td>\n",
       "      <td>0.4100</td>\n",
       "      <td>-0.451</td>\n",
       "      <td>-0.328</td>\n",
       "      <td>Mutated</td>\n",
       "    </tr>\n",
       "    <tr>\n",
       "      <td>S002</td>\n",
       "      <td>NaN</td>\n",
       "      <td>-0.162</td>\n",
       "      <td>-0.5560</td>\n",
       "      <td>-0.9410</td>\n",
       "      <td>-0.919</td>\n",
       "      <td>0.8880</td>\n",
       "      <td>-0.627</td>\n",
       "      <td>-0.418</td>\n",
       "      <td>Mutated</td>\n",
       "    </tr>\n",
       "    <tr>\n",
       "      <td>S003</td>\n",
       "      <td>NaN</td>\n",
       "      <td>-0.448</td>\n",
       "      <td>-0.5400</td>\n",
       "      <td>-0.3880</td>\n",
       "      <td>-0.555</td>\n",
       "      <td>0.0927</td>\n",
       "      <td>-0.537</td>\n",
       "      <td>-0.648</td>\n",
       "      <td>Wildtype</td>\n",
       "    </tr>\n",
       "    <tr>\n",
       "      <td>S005</td>\n",
       "      <td>NaN</td>\n",
       "      <td>0.203</td>\n",
       "      <td>0.0968</td>\n",
       "      <td>-0.0328</td>\n",
       "      <td>0.372</td>\n",
       "      <td>0.6880</td>\n",
       "      <td>-0.102</td>\n",
       "      <td>0.186</td>\n",
       "      <td>Wildtype</td>\n",
       "    </tr>\n",
       "    <tr>\n",
       "      <td>S006</td>\n",
       "      <td>NaN</td>\n",
       "      <td>0.298</td>\n",
       "      <td>0.0897</td>\n",
       "      <td>-1.4000</td>\n",
       "      <td>-0.642</td>\n",
       "      <td>0.3460</td>\n",
       "      <td>-0.432</td>\n",
       "      <td>-0.599</td>\n",
       "      <td>Wildtype</td>\n",
       "    </tr>\n",
       "  </tbody>\n",
       "</table>\n",
       "</div>"
      ],
      "text/plain": [
       "Name       DPF3_proteomics  SS18_proteomics  SMARCE1_proteomics  \\\n",
       "Sample_ID                                                         \n",
       "S001                   NaN           -0.498             -0.3950   \n",
       "S002                   NaN           -0.162             -0.5560   \n",
       "S003                   NaN           -0.448             -0.5400   \n",
       "S005                   NaN            0.203              0.0968   \n",
       "S006                   NaN            0.298              0.0897   \n",
       "\n",
       "Name       BCL7C_proteomics  DPF2_proteomics  BCL7A_proteomics  \\\n",
       "Sample_ID                                                        \n",
       "S001                -0.9180           -0.548            0.4100   \n",
       "S002                -0.9410           -0.919            0.8880   \n",
       "S003                -0.3880           -0.555            0.0927   \n",
       "S005                -0.0328            0.372            0.6880   \n",
       "S006                -1.4000           -0.642            0.3460   \n",
       "\n",
       "Name       SMARCC2_proteomics  SMARCD1_proteomics     Label  \n",
       "Sample_ID                                                    \n",
       "S001                   -0.451              -0.328   Mutated  \n",
       "S002                   -0.627              -0.418   Mutated  \n",
       "S003                   -0.537              -0.648  Wildtype  \n",
       "S005                   -0.102               0.186  Wildtype  \n",
       "S006                   -0.432              -0.599  Wildtype  "
      ]
     },
     "execution_count": 7,
     "metadata": {},
     "output_type": "execute_result"
    }
   ],
   "source": [
    "protdf.head()"
   ]
  },
  {
   "cell_type": "markdown",
   "metadata": {},
   "source": [
    "We take the column names, which are the interacting proteins, and create a list in order to run our t-tests for each protein individually."
   ]
  },
  {
   "cell_type": "code",
   "execution_count": 8,
   "metadata": {},
   "outputs": [],
   "source": [
    "col_list = list(protdf.columns)\n",
    "col_list.remove('Label')"
   ]
  },
  {
   "cell_type": "code",
   "execution_count": 9,
   "metadata": {},
   "outputs": [
    {
     "name": "stdout",
     "output_type": "stream",
     "text": [
      "['DPF3_proteomics', 'SS18_proteomics', 'SMARCE1_proteomics', 'BCL7C_proteomics', 'DPF2_proteomics', 'BCL7A_proteomics', 'SMARCC2_proteomics', 'SMARCD1_proteomics']\n"
     ]
    }
   ],
   "source": [
    "print(col_list)"
   ]
  },
  {
   "cell_type": "markdown",
   "metadata": {},
   "source": [
    "Now we call wrap_ttest, which is an accessory function in cptac.utils. It expects one column with a binary variable (which is 'Label' for us as either mutated or wildtype), and all other data as qualitiative. It will then run ttests to determine if there is a statistically significant difference between the binary values and their respective qualitative data. For our case, it will tell us if there are significantly different measurements between wildtype and mutated samples."
   ]
  },
  {
   "cell_type": "code",
   "execution_count": 10,
   "metadata": {},
   "outputs": [
    {
     "name": "stdout",
     "output_type": "stream",
     "text": [
      "Doing t-test comparisons\n",
      "\n",
      "           Comparison       P_Value\n",
      "0     DPF2_proteomics  2.166609e-07\n",
      "1  SMARCC2_proteomics  8.270473e-05\n",
      "2  SMARCE1_proteomics  1.498027e-04\n",
      "3  SMARCD1_proteomics  1.744915e-04\n",
      "4    BCL7C_proteomics  4.379537e-04\n",
      "\n",
      "\n",
      "\n"
     ]
    }
   ],
   "source": [
    "print(\"Doing t-test comparisons\\n\")\n",
    "\n",
    "wrap_results = al.wrap_ttest(protdf, 'Label', col_list)\n",
    "\n",
    "if wrap_results is not None:\n",
    "        print(wrap_results)\n",
    "        print(\"\\n\\n\")"
   ]
  },
  {
   "cell_type": "markdown",
   "metadata": {},
   "source": [
    "# Step 4: Find significant comparisons among all proteins"
   ]
  },
  {
   "cell_type": "markdown",
   "metadata": {},
   "source": [
    "Now that we have found significant values among interacting proteins, we will now go through the rest of the proteins in the CPTAC dataset and find any more that were significantly changed because of a mutation in ARID1A. The reason for doing two separate comparisons is because of the threshold used by wrap_ttest. The value is adjusted to be smaller and smaller as more proteins in a set are analyzed, as we use the formula of (.05 / number of proteins). Here we will once again go through the same t-testing steps from earlier, but this time without specifying specific proteins."
   ]
  },
  {
   "cell_type": "code",
   "execution_count": 11,
   "metadata": {},
   "outputs": [
    {
     "name": "stdout",
     "output_type": "stream",
     "text": [
      "\n",
      "Gene:  ARID1A\n"
     ]
    },
    {
     "name": "stderr",
     "output_type": "stream",
     "text": [
      "Warning: In joining the somatic_mutation table, no mutations were found for the following samples, so they were filled with Wildtype_Tumor or Wildtype_Normal: 101 samples for the ARID1A gene (/anaconda3/lib/python3.7/site-packages/ipykernel_launcher.py, line 6)\n"
     ]
    },
    {
     "name": "stdout",
     "output_type": "stream",
     "text": [
      "Doing t-test comparisons\n",
      "\n"
     ]
    },
    {
     "name": "stderr",
     "output_type": "stream",
     "text": [
      "/anaconda3/lib/python3.7/site-packages/numpy/core/fromnumeric.py:3506: RuntimeWarning: Degrees of freedom <= 0 for slice\n",
      "  **kwargs)\n",
      "/anaconda3/lib/python3.7/site-packages/numpy/core/_methods.py:209: RuntimeWarning: invalid value encountered in double_scalars\n",
      "  ret = ret.dtype.type(ret / rcount)\n"
     ]
    },
    {
     "name": "stdout",
     "output_type": "stream",
     "text": [
      "          Comparison       P_Value\n",
      "0  ARID1A_proteomics  1.025018e-10\n",
      "1   MAP1S_proteomics  1.010149e-07\n",
      "2    DPF2_proteomics  2.166609e-07\n",
      "3   KDM4B_proteomics  4.414547e-07\n",
      "4    RRM1_proteomics  4.455870e-07\n",
      "5  MAP7D3_proteomics  4.880890e-07\n",
      "6   CYTH3_proteomics  3.109396e-06\n",
      "7   CEP78_proteomics  3.749172e-06\n",
      "\n",
      "\n",
      "\n"
     ]
    }
   ],
   "source": [
    "print(\"\\nGene: \", gene)\n",
    "\n",
    "'''Use all proteins'''\n",
    "\n",
    "'''Create dataframe in order to do comparisons with wrap_ttest'''\n",
    "protdf = en.join_omics_to_mutations(mutations_genes=[gene], omics_df_name=omics) #Here is the different line\n",
    "protdf = protdf.loc[protdf['Sample_Status'] == 'Tumor']\n",
    "    \n",
    "'''Create the binary valued column needed to do the comparison'''\n",
    "for ind, row in protdf.iterrows():\n",
    "    if row[gene+\"_Mutation_Status\"] != 'Wildtype_Tumor':\n",
    "        protdf.at[ind,'Label'] = 'Mutated'\n",
    "    else:\n",
    "        protdf.at[ind,'Label'] = 'Wildtype'\n",
    "\n",
    "'''Format the dataframe correctly'''\n",
    "protdf = protdf.drop(gene+\"_Mutation\",axis=1)\n",
    "protdf = protdf.drop(gene+\"_Location\",axis=1)\n",
    "protdf = protdf.drop(gene+\"_Mutation_Status\", axis=1)\n",
    "protdf = protdf.drop(\"Sample_Status\",axis=1)\n",
    "\n",
    "'''Make list of columns to be compared using t-tests'''\n",
    "col_list = list(protdf.columns)\n",
    "col_list.remove('Label')\n",
    "\n",
    "print(\"Doing t-test comparisons\\n\")\n",
    "    \n",
    "'''Call wrap_ttest, pass in formatted dataframe'''\n",
    "wrap_results = al.wrap_ttest(protdf, 'Label', col_list)\n",
    "\n",
    "'''Print results, if anything significant was found'''\n",
    "if wrap_results is not None:\n",
    "        print(wrap_results)\n",
    "        print(\"\\n\\n\")"
   ]
  },
  {
   "cell_type": "markdown",
   "metadata": {},
   "source": [
    "# Step 5: Analyze collected proteins"
   ]
  },
  {
   "cell_type": "markdown",
   "metadata": {},
   "source": [
    "Printed below each code block where we called wrap_ttest there are names of downstream proteins that were significantly affected. Here we will do an exmample further analysis with DPF2, but these same steps can be followed with any other."
   ]
  },
  {
   "cell_type": "markdown",
   "metadata": {},
   "source": [
    "First we want to create and trim down a dataframe in order to easily graph our results. To do this, we simply want the sample ID, the protein level, and a label as to whether the sample is mutated or wildtype."
   ]
  },
  {
   "cell_type": "code",
   "execution_count": 12,
   "metadata": {},
   "outputs": [
    {
     "name": "stderr",
     "output_type": "stream",
     "text": [
      "Warning: In joining the somatic_mutation table, no mutations were found for the following samples, so they were filled with Wildtype_Tumor or Wildtype_Normal: 101 samples for the ARID1A gene (/anaconda3/lib/python3.7/site-packages/ipykernel_launcher.py, line 1)\n"
     ]
    },
    {
     "data": {
      "text/html": [
       "<div>\n",
       "<style scoped>\n",
       "    .dataframe tbody tr th:only-of-type {\n",
       "        vertical-align: middle;\n",
       "    }\n",
       "\n",
       "    .dataframe tbody tr th {\n",
       "        vertical-align: top;\n",
       "    }\n",
       "\n",
       "    .dataframe thead th {\n",
       "        text-align: right;\n",
       "    }\n",
       "</style>\n",
       "<table border=\"1\" class=\"dataframe\">\n",
       "  <thead>\n",
       "    <tr style=\"text-align: right;\">\n",
       "      <th>Name</th>\n",
       "      <th>DPF2_proteomics</th>\n",
       "      <th>Label</th>\n",
       "    </tr>\n",
       "    <tr>\n",
       "      <th>Sample_ID</th>\n",
       "      <th></th>\n",
       "      <th></th>\n",
       "    </tr>\n",
       "  </thead>\n",
       "  <tbody>\n",
       "    <tr>\n",
       "      <td>S001</td>\n",
       "      <td>-0.548</td>\n",
       "      <td>Mutated</td>\n",
       "    </tr>\n",
       "    <tr>\n",
       "      <td>S002</td>\n",
       "      <td>-0.919</td>\n",
       "      <td>Mutated</td>\n",
       "    </tr>\n",
       "    <tr>\n",
       "      <td>S003</td>\n",
       "      <td>-0.555</td>\n",
       "      <td>Wildtype</td>\n",
       "    </tr>\n",
       "    <tr>\n",
       "      <td>S005</td>\n",
       "      <td>0.372</td>\n",
       "      <td>Wildtype</td>\n",
       "    </tr>\n",
       "    <tr>\n",
       "      <td>S006</td>\n",
       "      <td>-0.642</td>\n",
       "      <td>Wildtype</td>\n",
       "    </tr>\n",
       "  </tbody>\n",
       "</table>\n",
       "</div>"
      ],
      "text/plain": [
       "Name       DPF2_proteomics     Label\n",
       "Sample_ID                           \n",
       "S001                -0.548   Mutated\n",
       "S002                -0.919   Mutated\n",
       "S003                -0.555  Wildtype\n",
       "S005                 0.372  Wildtype\n",
       "S006                -0.642  Wildtype"
      ]
     },
     "execution_count": 12,
     "metadata": {},
     "output_type": "execute_result"
    }
   ],
   "source": [
    "protdf = en.join_omics_to_mutations(omics_df_name='proteomics',omics_genes='DPF2',mutations_genes='ARID1A')\n",
    "protdf = protdf.loc[protdf['Sample_Status'] == 'Tumor']\n",
    "\n",
    "'''Create the binary valued column needed to do the comparison'''\n",
    "for ind, row in protdf.iterrows():\n",
    "    if row[gene+\"_Mutation_Status\"] != 'Wildtype_Tumor':\n",
    "        protdf.at[ind,'Label'] = 'Mutated'\n",
    "    else:\n",
    "        protdf.at[ind,'Label'] = 'Wildtype'\n",
    "\n",
    "'''Format the dataframe correctly'''\n",
    "protdf = protdf.drop(gene+\"_Mutation\",axis=1)\n",
    "protdf = protdf.drop(gene+\"_Location\",axis=1)\n",
    "protdf = protdf.drop(gene+\"_Mutation_Status\", axis=1)\n",
    "protdf = protdf.drop(\"Sample_Status\",axis=1)\n",
    "\n",
    "protdf.head()"
   ]
  },
  {
   "cell_type": "markdown",
   "metadata": {},
   "source": [
    "Now we will plot our data using the seaborn library as a stripplot on top of a boxplot in order to see the distributions."
   ]
  },
  {
   "cell_type": "code",
   "execution_count": 13,
   "metadata": {
    "scrolled": true
   },
   "outputs": [
    {
     "data": {
      "text/plain": [
       "<matplotlib.axes._subplots.AxesSubplot at 0x12b156d68>"
      ]
     },
     "execution_count": 13,
     "metadata": {},
     "output_type": "execute_result"
    },
    {
     "data": {
      "image/png": "[encoded data removed]",
      "text/plain": [
       "<Figure size 432x288 with 1 Axes>"
      ]
     },
     "metadata": {
      "needs_background": "light"
     },
     "output_type": "display_data"
    }
   ],
   "source": [
    "sns.boxplot(data = protdf, x = 'Label', y = 'DPF2_proteomics')\n",
    "sns.stripplot(data = protdf, x = 'Label', y = 'DPF2_proteomics', jitter = True, dodge = True, color = '.3')"
   ]
  },
  {
   "cell_type": "markdown",
   "metadata": {},
   "source": [
    "# Step 6: Use the same tools on another cancer type"
   ]
  },
  {
   "cell_type": "markdown",
   "metadata": {},
   "source": [
    "Now that we have looked at endometrial cancer, we will now use the same tools on colon cancer to see if we find similar results."
   ]
  },
  {
   "cell_type": "code",
   "execution_count": 14,
   "metadata": {},
   "outputs": [
    {
     "name": "stdout",
     "output_type": "stream",
     "text": [
      "Doing t-test comparisons\n",
      "\n",
      "No significant comparisons.\n"
     ]
    },
    {
     "name": "stderr",
     "output_type": "stream",
     "text": [
      "Warning: The following columns were not found in the proteomics dataframe, so they were inserted into joined table, but filled with NaN: BCL7A, DPF3, SS18 (/anaconda3/lib/python3.7/site-packages/ipykernel_launcher.py, line 2)\n",
      "Warning: In joining the somatic_mutation table, no mutations were found for the following samples, so they were filled with Wildtype_Tumor or Wildtype_Normal: 184 samples for the ARID1A gene (/anaconda3/lib/python3.7/site-packages/ipykernel_launcher.py, line 2)\n",
      "Warning: proteomics data was not found for the following samples, so proteomics data columns were filled with NaN for these samples: S001, S013, S015, S017, S038, S080, S081, S090, S099, S109 (/anaconda3/lib/python3.7/site-packages/ipykernel_launcher.py, line 2)\n"
     ]
    }
   ],
   "source": [
    "'''Create dataframe in order to do comparisons with wrap_ttest'''\n",
    "protdf = co.join_omics_to_mutations(mutations_genes=[gene], omics_df_name=omics, omics_genes=interacting_proteins)\n",
    "protdf = protdf.loc[protdf['Sample_Status'] == 'Tumor']\n",
    "\n",
    "'''Create the binary valued column needed to do the comparison'''\n",
    "for ind, row in protdf.iterrows():\n",
    "    if row[gene+\"_Mutation_Status\"] != 'Wildtype_Tumor':\n",
    "        protdf.at[ind,'Label'] = 'Mutated'\n",
    "    else:\n",
    "        protdf.at[ind,'Label'] = 'Wildtype'\n",
    "\n",
    "'''Format the dataframe correctly'''\n",
    "protdf = protdf.drop(gene+\"_Mutation\",axis=1)\n",
    "protdf = protdf.drop(gene+\"_Location\",axis=1)\n",
    "protdf = protdf.drop(gene+\"_Mutation_Status\", axis=1)\n",
    "protdf = protdf.drop(\"Sample_Status\",axis=1)\n",
    "\n",
    "'''Make list of columns to be compared using t-tests'''\n",
    "col_list = list(protdf.columns)\n",
    "col_list.remove('Label')\n",
    "\n",
    "print(\"Doing t-test comparisons\\n\")\n",
    "\n",
    "'''Call wrap_ttest, pass in formatted dataframe'''\n",
    "wrap_results = al.wrap_ttest(protdf, 'Label', col_list)\n",
    "\n",
    "'''Print results, if anything significant was found'''\n",
    "if wrap_results is not None:\n",
    "        print(wrap_results)\n",
    "        print(\"\\n\\n\")"
   ]
  },
  {
   "cell_type": "code",
   "execution_count": 15,
   "metadata": {},
   "outputs": [
    {
     "name": "stderr",
     "output_type": "stream",
     "text": [
      "Warning: In joining the somatic_mutation table, no mutations were found for the following samples, so they were filled with Wildtype_Tumor or Wildtype_Normal: 184 samples for the ARID1A gene (/anaconda3/lib/python3.7/site-packages/ipykernel_launcher.py, line 5)\n",
      "Warning: proteomics data was not found for the following samples, so proteomics data columns were filled with NaN for these samples: S001, S013, S015, S017, S038, S080, S081, S090, S099, S109 (/anaconda3/lib/python3.7/site-packages/ipykernel_launcher.py, line 5)\n"
     ]
    },
    {
     "name": "stdout",
     "output_type": "stream",
     "text": [
      "\n",
      "Gene:  ARID1A\n",
      "Doing t-test comparisons\n",
      "\n",
      "No significant comparisons.\n"
     ]
    }
   ],
   "source": [
    "print(\"\\nGene: \", gene)\n",
    "    \n",
    "'''Use all proteins'''\n",
    "'''Create dataframe in order to do comparisons with wrap_ttest'''\n",
    "protdf = co.join_omics_to_mutations(mutations_genes=[gene], omics_df_name=omics)\n",
    "protdf = protdf.loc[protdf['Sample_Status'] == 'Tumor']\n",
    "    \n",
    "'''Create the binary valued column needed to do the comparison'''\n",
    "for ind, row in protdf.iterrows():\n",
    "    if row[gene+\"_Mutation_Status\"] != 'Wildtype_Tumor':\n",
    "        protdf.at[ind,'Label'] = 'Mutated'\n",
    "    else:\n",
    "        protdf.at[ind,'Label'] = 'Wildtype'\n",
    "\n",
    "'''Format the dataframe correctly'''\n",
    "protdf = protdf.drop(gene+\"_Mutation\",axis=1)\n",
    "protdf = protdf.drop(gene+\"_Location\",axis=1)\n",
    "protdf = protdf.drop(gene+\"_Mutation_Status\", axis=1)\n",
    "protdf = protdf.drop(\"Sample_Status\",axis=1)\n",
    "\n",
    "'''Make list of columns to be compared using t-tests'''\n",
    "col_list = list(protdf.columns)\n",
    "col_list.remove('Label')\n",
    "\n",
    "print(\"Doing t-test comparisons\\n\")\n",
    "    \n",
    "'''Call wrap_ttest, pass in formatted dataframe'''\n",
    "wrap_results = al.wrap_ttest(protdf, 'Label', col_list)\n",
    "\n",
    "'''Print results, if anything significant was found'''\n",
    "if wrap_results is not None:\n",
    "        print(wrap_results)\n",
    "        print(\"\\n\\n\")"
   ]
  },
  {
   "cell_type": "markdown",
   "metadata": {},
   "source": [
    "Colon cancer didn't give us any significant comparison results, telling us that a mutation in ARID1A in colon cells has a different effect than a similar mutation in endometrial cells."
   ]
  }
 ],
 "metadata": {
  "kernelspec": {
   "display_name": "Python 3",
   "language": "python",
   "name": "python3"
  },
  "language_info": {
   "codemirror_mode": {
    "name": "ipython",
    "version": 3
   },
   "file_extension": ".py",
   "mimetype": "text/x-python",
   "name": "python",
   "nbconvert_exporter": "python",
   "pygments_lexer": "ipython3",
   "version": "3.7.1"
  }
 },
 "nbformat": 4,
 "nbformat_minor": 2
}
