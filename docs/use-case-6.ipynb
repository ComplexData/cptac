{
 "cells": [
  {
   "cell_type": "markdown",
   "metadata": {},
   "source": [
    "# Use Case 6: Comparing Derived Molecular Data with Proteomics\n"
   ]
  },
  {
   "cell_type": "markdown",
   "metadata": {},
   "source": [
    "For this use case, we will be looking at the derived molecular data contained in the Endometrial dataset, and comparing it with protein data. Derived molecular data means that we created new variables based on molecular data. One example of this is the activity of a pathway based on the abundance of phosphorylation sites. A second example is inferred cell type percentages from algorithms like CIBERSORT, which are based on comparing transcriptomics data to known profiles of pure cell types. "
   ]
  },
  {
   "cell_type": "markdown",
   "metadata": {},
   "source": [
    "## Step 1: Importing packages"
   ]
  },
  {
   "cell_type": "markdown",
   "metadata": {},
   "source": [
    "We will start by importing the python packages we will need, including the cptac data package. We will then load the Endometrial dataset which includes the endometrial patient data as well as accessory functions that we will use to analyze the data."
   ]
  },
  {
   "cell_type": "code",
   "execution_count": 1,
   "metadata": {
    "scrolled": true
   },
   "outputs": [
    {
     "name": "stdout",
     "output_type": "stream",
     "text": [
      "                                    \r"
     ]
    }
   ],
   "source": [
    "import pandas as pd\n",
    "import seaborn as sns\n",
    "import matplotlib.pyplot as plt\n",
    "import cptac\n",
    "en = cptac.Endometrial()"
   ]
  },
  {
   "cell_type": "markdown",
   "metadata": {},
   "source": [
    "## Step 2: Getting data and selecting attributes"
   ]
  },
  {
   "cell_type": "markdown",
   "metadata": {},
   "source": [
    "For this use case, we will be using two dataframes contained in the Endometrial dataset: <code>derived_molecular</code> and <code>proteomics</code>. We will load the derived_molecular dataframe and examine the data contained within it."
   ]
  },
  {
   "cell_type": "code",
   "execution_count": 2,
   "metadata": {},
   "outputs": [],
   "source": [
    "der_molecular = en.get_derived_molecular()"
   ]
  },
  {
   "cell_type": "markdown",
   "metadata": {},
   "source": [
    "The derived molecular dataframe contains many different attributes that we can choose from for analysis. To view a list of these attributes, we can print out the column names of the dataframe. To view the full list of column names without truncation, first use the command <code>pd.set_option('display.max_seq_items', None)</code>.\n"
   ]
  },
  {
   "cell_type": "code",
   "execution_count": 3,
   "metadata": {
    "scrolled": true
   },
   "outputs": [
    {
     "data": {
      "text/plain": [
       "['Estrogen_Receptor',\n",
       " 'Estrogen_Receptor_%',\n",
       " 'Progesterone_Receptor',\n",
       " 'Progesterone_Receptor_%',\n",
       " 'MLH1',\n",
       " 'MLH2',\n",
       " 'MSH6',\n",
       " 'PMS2',\n",
       " 'p53',\n",
       " 'Other_IHC_specify',\n",
       " 'MLH1_Promoter_Hypermethylation',\n",
       " 'EPIC_Bcells',\n",
       " 'EPIC_CAFs',\n",
       " 'EPIC_CD4_Tcells',\n",
       " 'EPIC_CD8_Tcells',\n",
       " 'EPIC_Endothelial',\n",
       " 'EPIC_Macrophages',\n",
       " 'EPIC_NKcells',\n",
       " 'EPIC_otherCells',\n",
       " 'CIBERSORT_B _cells _naive',\n",
       " 'CIBERSORT_B _cells _memory',\n",
       " 'CIBERSORT_Plasma _cells',\n",
       " 'CIBERSORT_T _cells _CD8',\n",
       " 'CIBERSORT_T _cells _CD4 _naive',\n",
       " 'CIBERSORT_T _cells _CD4 _memory _resting',\n",
       " 'CIBERSORT_T _cells _CD4 _memory _activated',\n",
       " 'CIBERSORT_T _cells _follicular _helper',\n",
       " 'CIBERSORT_T _cells _regulatory _(Tregs)',\n",
       " 'CIBERSORT_T _cells _gamma _delta',\n",
       " 'CIBERSORT_NK _cells _resting',\n",
       " 'CIBERSORT_NK _cells _activated',\n",
       " 'CIBERSORT_Monocytes',\n",
       " 'CIBERSORT_Macrophages _M0',\n",
       " 'CIBERSORT_Macrophages _M1',\n",
       " 'CIBERSORT_Macrophages _M2',\n",
       " 'CIBERSORT_Dendritic _cells _resting',\n",
       " 'CIBERSORT_Dendritic _cells _activated',\n",
       " 'CIBERSORT_Mast _cells _resting',\n",
       " 'CIBERSORT_Mast _cells _activated',\n",
       " 'CIBERSORT_Eosinophils',\n",
       " 'CIBERSORT_Neutrophils',\n",
       " 'CIBERSORT_Absolute _score',\n",
       " 'ESTIMATE_StromalScore',\n",
       " 'ESTIMATE_ImmuneScore',\n",
       " 'ESTIMATE_ESTIMATEScore',\n",
       " 'Stemness_score',\n",
       " 'ER_ESR1',\n",
       " 'PR_PGR',\n",
       " 'Pathway_activity_EGFR',\n",
       " 'Pathway_activity_Hypoxia',\n",
       " 'Pathway_activity_JAK.STAT',\n",
       " 'Pathway_activity_MAPK',\n",
       " 'Pathway_activity_NFkB',\n",
       " 'Pathway_activity_PI3K',\n",
       " 'Pathway_activity_TGFb',\n",
       " 'Pathway_activity_TNFa',\n",
       " 'Pathway_activity_Trail',\n",
       " 'Pathway_activity_VEGF',\n",
       " 'Pathway_activity_p53',\n",
       " 'TP53_ATM',\n",
       " 'TP53_CHEK2',\n",
       " 'TP53_MDM4',\n",
       " 'TP53_RPS6KA3',\n",
       " 'TP53_TP53',\n",
       " 'TP53_pathway',\n",
       " 'PI3K_AKT1',\n",
       " 'PI3K_AKT2',\n",
       " 'PI3K_AKT3',\n",
       " 'PI3K_DEPDC5',\n",
       " 'PI3K_DEPTOR',\n",
       " 'PI3K_INPP4B',\n",
       " 'PI3K_MAPKAP1',\n",
       " 'PI3K_MLST8',\n",
       " 'PI3K_MTOR',\n",
       " 'PI3K_NPRL2',\n",
       " 'PI3K_NPRL3',\n",
       " 'PI3K_PDK1',\n",
       " 'PI3K_PIK3CA',\n",
       " 'PI3K_PIK3CB',\n",
       " 'PI3K_PIK3R1',\n",
       " 'PI3K_PIK3R2',\n",
       " 'PI3K_PPP2R1A',\n",
       " 'PI3K_PTEN',\n",
       " 'PI3K_RHEB',\n",
       " 'PI3K_RICTOR',\n",
       " 'PI3K_RPS6',\n",
       " 'PI3K_RPS6KB1',\n",
       " 'PI3K_RPTOR',\n",
       " 'PI3K_STK11',\n",
       " 'PI3K_TSC1',\n",
       " 'PI3K_TSC2',\n",
       " 'PI3K_pathway',\n",
       " 'HRD_BRCA1',\n",
       " 'HRD_BRCA2',\n",
       " 'HRD_BRCA1_or_BRCA2',\n",
       " 'CNV_DEL',\n",
       " 'CNV_AMP',\n",
       " 'CNV_class',\n",
       " 'CNV_idx',\n",
       " 'CNV_1q_DEL',\n",
       " 'CNV_3q_DEL',\n",
       " 'CNV_4q_DEL',\n",
       " 'CNV_1q_AMP',\n",
       " 'CNV_3q_AMP',\n",
       " 'CNV_4q_AMP',\n",
       " 'Purity_Immune',\n",
       " 'Purity_Cancer',\n",
       " 'Purity_Stroma',\n",
       " 'MSI_status',\n",
       " 'POLE_subtype',\n",
       " 'JAK1_MS_INDEL',\n",
       " 'JAK1_Mutation',\n",
       " 'Log2_variant_per_Mbp',\n",
       " 'Log2_SNP_per_Mbp',\n",
       " 'Log2_INDEL_per_Mbp',\n",
       " 'Log2_variant_total',\n",
       " 'Log2_SNP_total',\n",
       " 'Log2_INDEL_total',\n",
       " 'Genomics_subtype',\n",
       " 'Mutation_signature_C>A',\n",
       " 'Mutation_signature_C>G',\n",
       " 'Mutation_signature_C>T',\n",
       " 'Mutation_signature_T>C',\n",
       " 'Mutation_signature_T>A',\n",
       " 'Mutation_signature_T>G']"
      ]
     },
     "execution_count": 3,
     "metadata": {},
     "output_type": "execute_result"
    }
   ],
   "source": [
    "der_molecular.columns.tolist()"
   ]
  },
  {
   "cell_type": "markdown",
   "metadata": {},
   "source": [
    "For this use case, we will compare MSI status with the JAK1 protein abundance. MSI stands for <a href=\"https://en.wikipedia.org/wiki/Microsatellite_instability\">Microsatellite instability</a>. The possible values for MSI status are MSI-H (high microsatellite instability) or MSS (microsatellite stable). In this context, \"nan\" refers to non-tumor samples. To see all of the possible values in any column, you can use the pandas function <code>.unique()</code>"
   ]
  },
  {
   "cell_type": "code",
   "execution_count": 4,
   "metadata": {},
   "outputs": [
    {
     "data": {
      "text/plain": [
       "array(['MSI-H', 'MSS', nan], dtype=object)"
      ]
     },
     "execution_count": 4,
     "metadata": {},
     "output_type": "execute_result"
    }
   ],
   "source": [
    "der_molecular['MSI_status'].unique()"
   ]
  },
  {
   "cell_type": "markdown",
   "metadata": {},
   "source": [
    "## Step 3: Join dataframes"
   ]
  },
  {
   "cell_type": "markdown",
   "metadata": {},
   "source": [
    "We will use the <code>en.join_metadada_to_omics</code> function to join our desired molecular trait with the proteomics data.  "
   ]
  },
  {
   "cell_type": "code",
   "execution_count": 5,
   "metadata": {},
   "outputs": [],
   "source": [
    "joined_data = en.join_metadata_to_omics(metadata_df_name=\"derived_molecular\", omics_df_name=\"proteomics\", metadata_cols='MSI_status')"
   ]
  },
  {
   "cell_type": "markdown",
   "metadata": {},
   "source": [
    "## Step 4: Plot data"
   ]
  },
  {
   "cell_type": "markdown",
   "metadata": {},
   "source": [
    "Now we will use the seaborn and matplotlib libraries to create a boxplot and histogram that will allow us to visualize this data. For more information on using seaborn, see this <a href=\"https://seaborn.pydata.org/tutorial.html\">seaborn tutorial</a>."
   ]
  },
  {
   "cell_type": "code",
   "execution_count": 6,
   "metadata": {
    "scrolled": false
   },
   "outputs": [
    {
     "data": {
      "image/png": "[encoded data removed]",
      "text/plain": [
       "<Figure size 432x288 with 1 Axes>"
      ]
     },
     "metadata": {
      "needs_background": "light"
     },
     "output_type": "display_data"
    },
    {
     "data": {
      "image/png": "[encoded data removed]",
      "text/plain": [
       "<Figure size 648x216 with 1 Axes>"
      ]
     },
     "metadata": {
      "needs_background": "light"
     },
     "output_type": "display_data"
    }
   ],
   "source": [
    "msi_boxplot = sns.boxplot(x='MSI_status', y='JAK1_proteomics', data = joined_data, showfliers = False, order = ['MSS', 'MSI-H'])\n",
    "msi_boxplot = sns.stripplot(x='MSI_status', y='JAK1_proteomics', data = joined_data, color = '.3', order = ['MSS', 'MSI-H'])\n",
    "plt.show()\n",
    "\n",
    "msi_histogram = sns.FacetGrid(joined_data[['MSI_status', 'JAK1_proteomics']], hue=\"MSI_status\", legend_out=False, aspect = 3)\n",
    "msi_histogram = msi_histogram.map(sns.kdeplot, \"JAK1_proteomics\").add_legend(title=\"MSI_status\")\n",
    "msi_histogram.set(ylabel='Proportion')\n",
    "plt.show()"
   ]
  }
 ],
 "metadata": {
  "kernelspec": {
   "display_name": "Python 3",
   "language": "python",
   "name": "python3"
  },
  "language_info": {
   "codemirror_mode": {
    "name": "ipython",
    "version": 3
   },
   "file_extension": ".py",
   "mimetype": "text/x-python",
   "name": "python",
   "nbconvert_exporter": "python",
   "pygments_lexer": "ipython3",
   "version": "3.7.3"
  }
 },
 "nbformat": 4,
 "nbformat_minor": 2
}
